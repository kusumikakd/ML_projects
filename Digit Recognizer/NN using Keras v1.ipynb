{
  "cells": [
    {
      "metadata": {
        "_cell_guid": "de7a97e1-76dc-4ed7-b5e3-d09220031514",
        "_uuid": "53cf4606db5f47e06009866961a82ac2ee8fee1c",
        "trusted": true
      },
      "cell_type": "code",
      "source": "# This Python 3 environment comes with many helpful analytics libraries installed\n# It is defined by the kaggle/python docker image: https://github.com/kaggle/docker-python\n# For example, here's several helpful packages to load in \n\nimport numpy as np # linear algebra\nimport pandas as pd # data processing, CSV file I/O (e.g. pd.read_csv)\nimport matplotlib.pyplot as plt\n%matplotlib inline\n\nfrom keras.models import Sequential\nfrom keras.layers import Dense,Dropout, Activation,Lambda,Flatten\nfrom keras.optimizers import Adam , RMSprop\nfrom sklearn.model_selection import train_test_split\n# Input data files are available in the \"../input/\" directory.\n# For example, running this (by clicking run or pressing Shift+Enter) will list the files in the input directory\n\nfrom subprocess import check_output\nprint(check_output([\"ls\", \"../input\"]).decode(\"utf8\"))\n\n# Any results you write to the current directory are saved as output.",
      "execution_count": 1,
      "outputs": [
        {
          "output_type": "stream",
          "text": "Using TensorFlow backend.\n/opt/conda/lib/python3.6/importlib/_bootstrap.py:219: RuntimeWarning: compiletime version 3.5 of module 'tensorflow.python.framework.fast_tensor_util' does not match runtime version 3.6\n  return f(*args, **kwds)\n",
          "name": "stderr"
        },
        {
          "output_type": "stream",
          "text": "test.csv\ntrain.csv\n\n",
          "name": "stdout"
        }
      ]
    },
    {
      "metadata": {
        "_cell_guid": "e25ba469-eb42-46e9-a410-a9b6609ab737",
        "_uuid": "60adba5bc07fba217076c9944d3b5f4f255988ee",
        "trusted": true
      },
      "cell_type": "code",
      "source": "train=pd.read_csv(\"../input/train.csv\")\nprint(train.shape)\ntrain.head()",
      "execution_count": 2,
      "outputs": [
        {
          "output_type": "stream",
          "text": "(42000, 785)\n",
          "name": "stdout"
        },
        {
          "output_type": "execute_result",
          "execution_count": 2,
          "data": {
            "text/plain": "   label  pixel0  pixel1  pixel2  pixel3  pixel4  pixel5  pixel6  pixel7  \\\n0      1       0       0       0       0       0       0       0       0   \n1      0       0       0       0       0       0       0       0       0   \n2      1       0       0       0       0       0       0       0       0   \n3      4       0       0       0       0       0       0       0       0   \n4      0       0       0       0       0       0       0       0       0   \n\n   pixel8    ...     pixel774  pixel775  pixel776  pixel777  pixel778  \\\n0       0    ...            0         0         0         0         0   \n1       0    ...            0         0         0         0         0   \n2       0    ...            0         0         0         0         0   \n3       0    ...            0         0         0         0         0   \n4       0    ...            0         0         0         0         0   \n\n   pixel779  pixel780  pixel781  pixel782  pixel783  \n0         0         0         0         0         0  \n1         0         0         0         0         0  \n2         0         0         0         0         0  \n3         0         0         0         0         0  \n4         0         0         0         0         0  \n\n[5 rows x 785 columns]",
            "text/html": "<div>\n<style>\n    .dataframe thead tr:only-child th {\n        text-align: right;\n    }\n\n    .dataframe thead th {\n        text-align: left;\n    }\n\n    .dataframe tbody tr th {\n        vertical-align: top;\n    }\n</style>\n<table border=\"1\" class=\"dataframe\">\n  <thead>\n    <tr style=\"text-align: right;\">\n      <th></th>\n      <th>label</th>\n      <th>pixel0</th>\n      <th>pixel1</th>\n      <th>pixel2</th>\n      <th>pixel3</th>\n      <th>pixel4</th>\n      <th>pixel5</th>\n      <th>pixel6</th>\n      <th>pixel7</th>\n      <th>pixel8</th>\n      <th>...</th>\n      <th>pixel774</th>\n      <th>pixel775</th>\n      <th>pixel776</th>\n      <th>pixel777</th>\n      <th>pixel778</th>\n      <th>pixel779</th>\n      <th>pixel780</th>\n      <th>pixel781</th>\n      <th>pixel782</th>\n      <th>pixel783</th>\n    </tr>\n  </thead>\n  <tbody>\n    <tr>\n      <th>0</th>\n      <td>1</td>\n      <td>0</td>\n      <td>0</td>\n      <td>0</td>\n      <td>0</td>\n      <td>0</td>\n      <td>0</td>\n      <td>0</td>\n      <td>0</td>\n      <td>0</td>\n      <td>...</td>\n      <td>0</td>\n      <td>0</td>\n      <td>0</td>\n      <td>0</td>\n      <td>0</td>\n      <td>0</td>\n      <td>0</td>\n      <td>0</td>\n      <td>0</td>\n      <td>0</td>\n    </tr>\n    <tr>\n      <th>1</th>\n      <td>0</td>\n      <td>0</td>\n      <td>0</td>\n      <td>0</td>\n      <td>0</td>\n      <td>0</td>\n      <td>0</td>\n      <td>0</td>\n      <td>0</td>\n      <td>0</td>\n      <td>...</td>\n      <td>0</td>\n      <td>0</td>\n      <td>0</td>\n      <td>0</td>\n      <td>0</td>\n      <td>0</td>\n      <td>0</td>\n      <td>0</td>\n      <td>0</td>\n      <td>0</td>\n    </tr>\n    <tr>\n      <th>2</th>\n      <td>1</td>\n      <td>0</td>\n      <td>0</td>\n      <td>0</td>\n      <td>0</td>\n      <td>0</td>\n      <td>0</td>\n      <td>0</td>\n      <td>0</td>\n      <td>0</td>\n      <td>...</td>\n      <td>0</td>\n      <td>0</td>\n      <td>0</td>\n      <td>0</td>\n      <td>0</td>\n      <td>0</td>\n      <td>0</td>\n      <td>0</td>\n      <td>0</td>\n      <td>0</td>\n    </tr>\n    <tr>\n      <th>3</th>\n      <td>4</td>\n      <td>0</td>\n      <td>0</td>\n      <td>0</td>\n      <td>0</td>\n      <td>0</td>\n      <td>0</td>\n      <td>0</td>\n      <td>0</td>\n      <td>0</td>\n      <td>...</td>\n      <td>0</td>\n      <td>0</td>\n      <td>0</td>\n      <td>0</td>\n      <td>0</td>\n      <td>0</td>\n      <td>0</td>\n      <td>0</td>\n      <td>0</td>\n      <td>0</td>\n    </tr>\n    <tr>\n      <th>4</th>\n      <td>0</td>\n      <td>0</td>\n      <td>0</td>\n      <td>0</td>\n      <td>0</td>\n      <td>0</td>\n      <td>0</td>\n      <td>0</td>\n      <td>0</td>\n      <td>0</td>\n      <td>...</td>\n      <td>0</td>\n      <td>0</td>\n      <td>0</td>\n      <td>0</td>\n      <td>0</td>\n      <td>0</td>\n      <td>0</td>\n      <td>0</td>\n      <td>0</td>\n      <td>0</td>\n    </tr>\n  </tbody>\n</table>\n<p>5 rows × 785 columns</p>\n</div>"
          },
          "metadata": {}
        }
      ]
    },
    {
      "metadata": {
        "_cell_guid": "2cbadf6a-7efd-4a0c-b60e-1f6de9397681",
        "_uuid": "23532a2bdaa5324fe7ee55559994f5ac56876260",
        "trusted": true
      },
      "cell_type": "code",
      "source": "test=pd.read_csv(\"../input/test.csv\")\nprint(test.shape)\ntest.head()",
      "execution_count": 3,
      "outputs": [
        {
          "output_type": "stream",
          "text": "(28000, 784)\n",
          "name": "stdout"
        },
        {
          "output_type": "execute_result",
          "execution_count": 3,
          "data": {
            "text/plain": "   pixel0  pixel1  pixel2  pixel3  pixel4  pixel5  pixel6  pixel7  pixel8  \\\n0       0       0       0       0       0       0       0       0       0   \n1       0       0       0       0       0       0       0       0       0   \n2       0       0       0       0       0       0       0       0       0   \n3       0       0       0       0       0       0       0       0       0   \n4       0       0       0       0       0       0       0       0       0   \n\n   pixel9    ...     pixel774  pixel775  pixel776  pixel777  pixel778  \\\n0       0    ...            0         0         0         0         0   \n1       0    ...            0         0         0         0         0   \n2       0    ...            0         0         0         0         0   \n3       0    ...            0         0         0         0         0   \n4       0    ...            0         0         0         0         0   \n\n   pixel779  pixel780  pixel781  pixel782  pixel783  \n0         0         0         0         0         0  \n1         0         0         0         0         0  \n2         0         0         0         0         0  \n3         0         0         0         0         0  \n4         0         0         0         0         0  \n\n[5 rows x 784 columns]",
            "text/html": "<div>\n<style>\n    .dataframe thead tr:only-child th {\n        text-align: right;\n    }\n\n    .dataframe thead th {\n        text-align: left;\n    }\n\n    .dataframe tbody tr th {\n        vertical-align: top;\n    }\n</style>\n<table border=\"1\" class=\"dataframe\">\n  <thead>\n    <tr style=\"text-align: right;\">\n      <th></th>\n      <th>pixel0</th>\n      <th>pixel1</th>\n      <th>pixel2</th>\n      <th>pixel3</th>\n      <th>pixel4</th>\n      <th>pixel5</th>\n      <th>pixel6</th>\n      <th>pixel7</th>\n      <th>pixel8</th>\n      <th>pixel9</th>\n      <th>...</th>\n      <th>pixel774</th>\n      <th>pixel775</th>\n      <th>pixel776</th>\n      <th>pixel777</th>\n      <th>pixel778</th>\n      <th>pixel779</th>\n      <th>pixel780</th>\n      <th>pixel781</th>\n      <th>pixel782</th>\n      <th>pixel783</th>\n    </tr>\n  </thead>\n  <tbody>\n    <tr>\n      <th>0</th>\n      <td>0</td>\n      <td>0</td>\n      <td>0</td>\n      <td>0</td>\n      <td>0</td>\n      <td>0</td>\n      <td>0</td>\n      <td>0</td>\n      <td>0</td>\n      <td>0</td>\n      <td>...</td>\n      <td>0</td>\n      <td>0</td>\n      <td>0</td>\n      <td>0</td>\n      <td>0</td>\n      <td>0</td>\n      <td>0</td>\n      <td>0</td>\n      <td>0</td>\n      <td>0</td>\n    </tr>\n    <tr>\n      <th>1</th>\n      <td>0</td>\n      <td>0</td>\n      <td>0</td>\n      <td>0</td>\n      <td>0</td>\n      <td>0</td>\n      <td>0</td>\n      <td>0</td>\n      <td>0</td>\n      <td>0</td>\n      <td>...</td>\n      <td>0</td>\n      <td>0</td>\n      <td>0</td>\n      <td>0</td>\n      <td>0</td>\n      <td>0</td>\n      <td>0</td>\n      <td>0</td>\n      <td>0</td>\n      <td>0</td>\n    </tr>\n    <tr>\n      <th>2</th>\n      <td>0</td>\n      <td>0</td>\n      <td>0</td>\n      <td>0</td>\n      <td>0</td>\n      <td>0</td>\n      <td>0</td>\n      <td>0</td>\n      <td>0</td>\n      <td>0</td>\n      <td>...</td>\n      <td>0</td>\n      <td>0</td>\n      <td>0</td>\n      <td>0</td>\n      <td>0</td>\n      <td>0</td>\n      <td>0</td>\n      <td>0</td>\n      <td>0</td>\n      <td>0</td>\n    </tr>\n    <tr>\n      <th>3</th>\n      <td>0</td>\n      <td>0</td>\n      <td>0</td>\n      <td>0</td>\n      <td>0</td>\n      <td>0</td>\n      <td>0</td>\n      <td>0</td>\n      <td>0</td>\n      <td>0</td>\n      <td>...</td>\n      <td>0</td>\n      <td>0</td>\n      <td>0</td>\n      <td>0</td>\n      <td>0</td>\n      <td>0</td>\n      <td>0</td>\n      <td>0</td>\n      <td>0</td>\n      <td>0</td>\n    </tr>\n    <tr>\n      <th>4</th>\n      <td>0</td>\n      <td>0</td>\n      <td>0</td>\n      <td>0</td>\n      <td>0</td>\n      <td>0</td>\n      <td>0</td>\n      <td>0</td>\n      <td>0</td>\n      <td>0</td>\n      <td>...</td>\n      <td>0</td>\n      <td>0</td>\n      <td>0</td>\n      <td>0</td>\n      <td>0</td>\n      <td>0</td>\n      <td>0</td>\n      <td>0</td>\n      <td>0</td>\n      <td>0</td>\n    </tr>\n  </tbody>\n</table>\n<p>5 rows × 784 columns</p>\n</div>"
          },
          "metadata": {}
        }
      ]
    },
    {
      "metadata": {
        "_cell_guid": "40ac430c-ab43-4299-88fa-6ca6846ccdec",
        "_uuid": "9a62c319dbce50003c1df9d7e4f65f3c176c48e2",
        "trusted": true
      },
      "cell_type": "code",
      "source": "x_train=(train.ix[:,1:].values).astype('float32')\ny_train=train.ix[:,0].values.astype('int32')\n\nx_test=test.values.astype('float32')",
      "execution_count": 4,
      "outputs": [
        {
          "output_type": "stream",
          "text": "/opt/conda/lib/python3.6/site-packages/ipykernel_launcher.py:1: DeprecationWarning: \n.ix is deprecated. Please use\n.loc for label based indexing or\n.iloc for positional indexing\n\nSee the documentation here:\nhttp://pandas.pydata.org/pandas-docs/stable/indexing.html#ix-indexer-is-deprecated\n  \"\"\"Entry point for launching an IPython kernel.\n",
          "name": "stderr"
        }
      ]
    },
    {
      "metadata": {
        "_cell_guid": "182e7c03-e1a5-4aac-9aa2-3a5c42998726",
        "_uuid": "71af60fd913c01c1b91872ae3aa6b88e7c87ae65",
        "trusted": true
      },
      "cell_type": "code",
      "source": "x_train.shape",
      "execution_count": 5,
      "outputs": [
        {
          "output_type": "execute_result",
          "execution_count": 5,
          "data": {
            "text/plain": "(42000, 784)"
          },
          "metadata": {}
        }
      ]
    },
    {
      "metadata": {
        "_cell_guid": "fef6af1d-6cb3-4f8a-85c3-b69bc77e3f27",
        "_uuid": "879b4688d6bb4df64be0e43750bff1e74ca63497",
        "trusted": true
      },
      "cell_type": "code",
      "source": "y_train.shape",
      "execution_count": 6,
      "outputs": [
        {
          "output_type": "execute_result",
          "execution_count": 6,
          "data": {
            "text/plain": "(42000,)"
          },
          "metadata": {}
        }
      ]
    },
    {
      "metadata": {
        "_cell_guid": "f83ccbc0-655b-4823-81c1-3100b6518c2c",
        "_uuid": "bf9cd81241ad099804d824d0155a52b2c4ea1836"
      },
      "cell_type": "markdown",
      "source": "**Previewing image**"
    },
    {
      "metadata": {
        "_cell_guid": "460d3966-4aa9-4519-a9b1-2cd835bfdf26",
        "_uuid": "42c11326e0997026214a878d508cdc4fec01f09f",
        "collapsed": true,
        "trusted": true
      },
      "cell_type": "code",
      "source": "x_train=x_train.reshape(x_train.shape[0],28,28)",
      "execution_count": 7,
      "outputs": []
    },
    {
      "metadata": {
        "_cell_guid": "dc390eb0-717f-4d7e-8f85-c0e3c76aa067",
        "_uuid": "54042aac6fd3f1f709567a2abdaa9bf285a2c805",
        "trusted": true
      },
      "cell_type": "code",
      "source": "x_train.shape",
      "execution_count": 8,
      "outputs": [
        {
          "output_type": "execute_result",
          "execution_count": 8,
          "data": {
            "text/plain": "(42000, 28, 28)"
          },
          "metadata": {}
        }
      ]
    },
    {
      "metadata": {
        "_cell_guid": "a1309738-89a7-40e9-8c6e-00ac960c638d",
        "_uuid": "1010a46d8c42f16120e60edf4eff1aad524e9bcc",
        "trusted": true
      },
      "cell_type": "code",
      "source": "#change index to view other images\nindex=678\nplt.imshow(x_train[index])\nprint('Number is',y_train[index])",
      "execution_count": 9,
      "outputs": [
        {
          "output_type": "stream",
          "text": "Number is 7\n",
          "name": "stdout"
        },
        {
          "output_type": "display_data",
          "data": {
            "text/plain": "<matplotlib.figure.Figure at 0x7f419dc95ba8>",
            "image/png": "[encoded data removed]"
          },
          "metadata": {}
        }
      ]
    },
    {
      "metadata": {
        "_cell_guid": "8adb3757-7744-46cf-91c6-d8c9c6c2515e",
        "_uuid": "5a8fc7876ae5f1a1d0f8b8f57daec6eec142f9f7",
        "_kg_hide-output": true
      },
      "cell_type": "markdown",
      "source": "**Better to change the channe to gray as there is no need for these color pixels.\nWe will add another dimesion 1 for gray chanee.\nP.S - 3 is for RGB channel**"
    },
    {
      "metadata": {
        "_cell_guid": "1dd7630c-1495-4794-a5bc-7f082ca6da82",
        "_uuid": "53b7327172ea4ee69c99bc468f7bf4c2a4099697",
        "collapsed": true,
        "trusted": true
      },
      "cell_type": "code",
      "source": "x_train=x_train.reshape(x_train.shape[0],28,28,1)\nx_test=x_test.reshape(x_test.shape[0],28,28,1)",
      "execution_count": 10,
      "outputs": []
    },
    {
      "metadata": {
        "_cell_guid": "bace16f6-7e0f-4594-9b86-c42344f47c6d",
        "_uuid": "40999d4aa6b9976e85426fb20e1f5c5bfa956f93",
        "trusted": true
      },
      "cell_type": "code",
      "source": "x_train.shape,x_test.shape",
      "execution_count": 11,
      "outputs": [
        {
          "output_type": "execute_result",
          "execution_count": 11,
          "data": {
            "text/plain": "((42000, 28, 28, 1), (28000, 28, 28, 1))"
          },
          "metadata": {}
        }
      ]
    },
    {
      "metadata": {
        "_cell_guid": "933e781a-8240-402a-a707-aa6bfc5ca99e",
        "_uuid": "967c9e78c8d1131bffb8d9d0ce8167da6bafa366"
      },
      "cell_type": "markdown",
      "source": "**Preprocessing**"
    },
    {
      "metadata": {
        "_cell_guid": "acbe41ec-2cb5-467b-86c4-f4ec745925e6",
        "_uuid": "7c2accd18e1c2bbd45ec28fda3fbd6189d81d305",
        "collapsed": true,
        "trusted": true
      },
      "cell_type": "code",
      "source": "#One Hot Encoding \n#I guess everybody knows this otherwise google\n\nfrom keras.utils.np_utils import to_categorical\ny_train=to_categorical(y_train,num_classes=10)",
      "execution_count": 12,
      "outputs": []
    },
    {
      "metadata": {
        "_cell_guid": "395677a4-d6ed-4d66-a1be-538dd7a6204c",
        "_uuid": "53bdd701bc545395ca6ae436da7cff32be79a3b9",
        "trusted": true
      },
      "cell_type": "code",
      "source": "y_train.shape",
      "execution_count": 13,
      "outputs": [
        {
          "output_type": "execute_result",
          "execution_count": 13,
          "data": {
            "text/plain": "(42000, 10)"
          },
          "metadata": {}
        }
      ]
    },
    {
      "metadata": {
        "_cell_guid": "2a3d29bd-a30d-4b2e-8aed-e920ccb4c667",
        "_uuid": "9a4b7ee889f71198b4712e50d50a02cabcf6840d",
        "trusted": true
      },
      "cell_type": "code",
      "source": "#same as above to verify as if it correct\nprint(y_train[index])\nplt.plot(y_train[index])\nplt.xticks(range(10))\nplt.show()",
      "execution_count": 14,
      "outputs": [
        {
          "output_type": "stream",
          "text": "[ 0.  0.  0.  0.  0.  0.  0.  1.  0.  0.]\n",
          "name": "stdout"
        },
        {
          "output_type": "display_data",
          "data": {
            "text/plain": "<matplotlib.figure.Figure at 0x7f419dc95eb8>",
            "image/png": "[encoded data removed]"
          },
          "metadata": {}
        }
      ]
    },
    {
      "metadata": {
        "_cell_guid": "ede89921-7281-4bc3-a642-bc0e7551c710",
        "_uuid": "f27ac3b1147fc26aa7b6b10669b66656cff174e6",
        "collapsed": true,
        "trusted": true
      },
      "cell_type": "code",
      "source": "mean_px = x_train.mean().astype(np.float32)\nstd_px = x_train.std().astype(np.float32)\n\ndef standardize(x): \n    return (x-mean_px)/std_px",
      "execution_count": 15,
      "outputs": []
    },
    {
      "metadata": {
        "_cell_guid": "a8181ee0-1063-4439-ad66-068fec4063cc",
        "_uuid": "184cf5f4e67b9654c885170dea0fe5a34bc78bd0",
        "trusted": true
      },
      "cell_type": "code",
      "source": "x_train.reshape",
      "execution_count": 16,
      "outputs": [
        {
          "output_type": "execute_result",
          "execution_count": 16,
          "data": {
            "text/plain": "<function ndarray.reshape>"
          },
          "metadata": {}
        }
      ]
    },
    {
      "metadata": {
        "_cell_guid": "c4b05754-1609-4baa-bc29-7f5fdc6f097c",
        "_uuid": "d57b803dacbe21bbc7cfda0cc9a2e4cdada8d7df",
        "collapsed": true,
        "trusted": true
      },
      "cell_type": "code",
      "source": "",
      "execution_count": null,
      "outputs": []
    },
    {
      "metadata": {
        "_cell_guid": "55b7d1dd-1a82-4dc5-b098-e63916dc0c35",
        "_uuid": "51c585ab2affba485d50f4d4fbc82c891a1ab021",
        "collapsed": true,
        "trusted": true
      },
      "cell_type": "code",
      "source": "",
      "execution_count": null,
      "outputs": []
    },
    {
      "metadata": {
        "_cell_guid": "e293fefd-7428-40bd-abe3-c43f97a2a765",
        "_uuid": "fb1da1c79705cda5c25d67a1aca6c31f0c1411d8"
      },
      "cell_type": "markdown",
      "source": "**NN**"
    },
    {
      "metadata": {
        "_cell_guid": "993f6460-6320-4749-8643-70653aa3fd6a",
        "_uuid": "ae50163bad9121f87a90ab53e3e6696e6f739201",
        "collapsed": true,
        "trusted": true
      },
      "cell_type": "code",
      "source": "np.random.seed(34)",
      "execution_count": 17,
      "outputs": []
    },
    {
      "metadata": {
        "_cell_guid": "4bd197ac-2eb9-418e-8a8d-b4368558fda1",
        "_uuid": "d3bdeda6d03b46dc31605c32f2c8c9cc29317f9a",
        "collapsed": true,
        "trusted": true
      },
      "cell_type": "code",
      "source": "model=Sequential()\nmodel.add(Lambda(standardize,input_shape=(28,28,1)))\nmodel.add(Flatten())\nmodel.add(Dense(10,activation='softmax'))\n",
      "execution_count": 18,
      "outputs": []
    },
    {
      "metadata": {
        "_cell_guid": "ec54a10a-a7c9-4935-9943-ab07588c7fbe",
        "_uuid": "b022fd82d955bd2be9556972b2e1710960d068c2",
        "trusted": true
      },
      "cell_type": "code",
      "source": "#most useful function for a newbie **sobs**\nmodel.summary()",
      "execution_count": 19,
      "outputs": [
        {
          "output_type": "stream",
          "text": "_________________________________________________________________\nLayer (type)                 Output Shape              Param #   \n=================================================================\nlambda_1 (Lambda)            (None, 28, 28, 1)         0         \n_________________________________________________________________\nflatten_1 (Flatten)          (None, 784)               0         \n_________________________________________________________________\ndense_1 (Dense)              (None, 10)                7850      \n=================================================================\nTotal params: 7,850\nTrainable params: 7,850\nNon-trainable params: 0\n_________________________________________________________________\n",
          "name": "stdout"
        }
      ]
    },
    {
      "metadata": {
        "_cell_guid": "ab8a0b92-d466-4b96-8007-11949e00d192",
        "_uuid": "0e5a5e426550650db6d9d114a598661e9a358d9a",
        "collapsed": true,
        "trusted": true
      },
      "cell_type": "code",
      "source": "model.compile(optimizer=RMSprop(lr=0.001),\n             loss='categorical_crossentropy',\n             metrics=['accuracy'])",
      "execution_count": 20,
      "outputs": []
    },
    {
      "metadata": {
        "_cell_guid": "25dfc62a-2558-4b52-8a3b-bbac77a67d78",
        "_uuid": "32dd7a7e09e0765391fb4d3745d80b9ab3acc48b",
        "collapsed": true,
        "trusted": true
      },
      "cell_type": "code",
      "source": "from keras.preprocessing import image\ngen=image.ImageDataGenerator()",
      "execution_count": 21,
      "outputs": []
    },
    {
      "metadata": {
        "_cell_guid": "05a98b0e-82f4-4995-a2f2-0f12a8db61da",
        "_uuid": "1cb4fbb5e203cd25221ab1df0d9fc12584890d4f",
        "collapsed": true,
        "trusted": true
      },
      "cell_type": "code",
      "source": "X_train,X_val,Y_train,Y_val=train_test_split(x_train,y_train,test_size=0.10,random_state=34)\nbatches=gen.flow(X_train,Y_train,batch_size=64)\nval_batches=gen.flow(X_val,Y_val,batch_size=64)",
      "execution_count": 22,
      "outputs": []
    },
    {
      "metadata": {
        "_cell_guid": "356c13fe-ffea-4282-b3f0-8595556ea42d",
        "_uuid": "14bb5600a7e4657211a953c8c347cd552c3a8981",
        "trusted": true
      },
      "cell_type": "code",
      "source": "cache=model.fit_generator(batches,batches.n,nb_epoch=1,validation_data=val_batches,nb_val_samples=val_batches.n)",
      "execution_count": 23,
      "outputs": [
        {
          "output_type": "stream",
          "text": "/opt/conda/lib/python3.6/site-packages/ipykernel_launcher.py:1: UserWarning: The semantics of the Keras 2 argument `steps_per_epoch` is not the same as the Keras 1 argument `samples_per_epoch`. `steps_per_epoch` is the number of batches to draw from the generator at each epoch. Basically steps_per_epoch = samples_per_epoch/batch_size. Similarly `nb_val_samples`->`validation_steps` and `val_samples`->`steps` arguments have changed. Update your method calls accordingly.\n  \"\"\"Entry point for launching an IPython kernel.\n/opt/conda/lib/python3.6/site-packages/ipykernel_launcher.py:1: UserWarning: Update your `fit_generator` call to the Keras 2 API: `fit_generator(<keras.pre..., 37800, validation_data=<keras.pre..., epochs=1, validation_steps=4200)`\n  \"\"\"Entry point for launching an IPython kernel.\n",
          "name": "stderr"
        },
        {
          "output_type": "stream",
          "text": "Epoch 1/1\n37800/37800 [==============================] - 94s 2ms/step - loss: 0.2392 - acc: 0.9336 - val_loss: 0.3446 - val_acc: 0.9102\n",
          "name": "stdout"
        }
      ]
    },
    {
      "metadata": {
        "_cell_guid": "178b47fb-bdfb-468b-b93e-8165c531333c",
        "_uuid": "4335bcd0e579722f75067fc4ca21eb48dfb6248b",
        "trusted": true
      },
      "cell_type": "code",
      "source": "cache.history",
      "execution_count": 24,
      "outputs": [
        {
          "output_type": "execute_result",
          "execution_count": 24,
          "data": {
            "text/plain": "{'acc': [0.93361360387626546],\n 'loss': [0.23917538815835543],\n 'val_acc': [0.91024288410685317],\n 'val_loss': [0.344636433238173]}"
          },
          "metadata": {}
        }
      ]
    },
    {
      "metadata": {
        "_cell_guid": "71de6d46-a5c0-4a15-b4cf-d3b9d567d9b2",
        "_uuid": "2e1dc53a518ce1a7deabec3fbf4daf59a011beca",
        "trusted": true
      },
      "cell_type": "code",
      "source": "model.optimizer.lr=0.01\ngen = image.ImageDataGenerator()\nbatches = gen.flow(X_train, Y_train, batch_size=64)\nhistory=model.fit_generator(batches, batches.n, nb_epoch=1)",
      "execution_count": 25,
      "outputs": [
        {
          "output_type": "stream",
          "text": "Epoch 1/1\n   77/37800 [..............................] - ETA: 1:17 - loss: 0.2199 - acc: 0.9405",
          "name": "stdout"
        },
        {
          "output_type": "stream",
          "text": "/opt/conda/lib/python3.6/site-packages/ipykernel_launcher.py:4: UserWarning: The semantics of the Keras 2 argument `steps_per_epoch` is not the same as the Keras 1 argument `samples_per_epoch`. `steps_per_epoch` is the number of batches to draw from the generator at each epoch. Basically steps_per_epoch = samples_per_epoch/batch_size. Similarly `nb_val_samples`->`validation_steps` and `val_samples`->`steps` arguments have changed. Update your method calls accordingly.\n  after removing the cwd from sys.path.\n/opt/conda/lib/python3.6/site-packages/ipykernel_launcher.py:4: UserWarning: Update your `fit_generator` call to the Keras 2 API: `fit_generator(<keras.pre..., 37800, epochs=1)`\n  after removing the cwd from sys.path.\n",
          "name": "stderr"
        },
        {
          "output_type": "stream",
          "text": "37800/37800 [==============================] - 83s 2ms/step - loss: 0.2150 - acc: 0.9413\n",
          "name": "stdout"
        }
      ]
    },
    {
      "metadata": {
        "_cell_guid": "9e7b88a8-ca29-466e-8cb4-d8cf21867cf1",
        "_uuid": "3ca2e90cb0ab6051c6cb1eed3c4b74de3ee123e9",
        "trusted": true
      },
      "cell_type": "code",
      "source": "history.history",
      "execution_count": 26,
      "outputs": [
        {
          "output_type": "execute_result",
          "execution_count": 26,
          "data": {
            "text/plain": "{'acc': [0.94125775956106561], 'loss': [0.21498276841166902]}"
          },
          "metadata": {}
        }
      ]
    },
    {
      "metadata": {
        "_cell_guid": "8e453749-5528-460e-b333-3d36662520f9",
        "_uuid": "c325536a48acf7a525cbf5752420552deaf41823",
        "collapsed": true,
        "trusted": true
      },
      "cell_type": "code",
      "source": "preds=model.predict_classes(x_test,verbose=0)",
      "execution_count": 27,
      "outputs": []
    },
    {
      "metadata": {
        "_cell_guid": "761cadfa-1716-4b3f-b73f-c24afb3c7b48",
        "_uuid": "1a96af14f78ead15bf4b0863e6ba15cd22b8e6e3",
        "trusted": true
      },
      "cell_type": "code",
      "source": "preds[0:5]",
      "execution_count": 28,
      "outputs": [
        {
          "output_type": "execute_result",
          "execution_count": 28,
          "data": {
            "text/plain": "array([2, 0, 9, 7, 3])"
          },
          "metadata": {}
        }
      ]
    },
    {
      "metadata": {
        "_cell_guid": "c11703bf-bf9d-45a7-a09d-c964a5d782b8",
        "_uuid": "ebd323c9a5b440543929b73e74e792028695dda0",
        "collapsed": true,
        "trusted": true
      },
      "cell_type": "code",
      "source": "subs=pd.DataFrame({\"ImageId\":list(range(1,len(preds)+1)),\"Label\":preds})\nsubs.to_csv(\"sub1.csv\",index=False,header=True)",
      "execution_count": 29,
      "outputs": []
    },
    {
      "metadata": {
        "_cell_guid": "99303fcd-9a2b-46a8-b352-78ca8b6a8fd1",
        "_uuid": "641fb38694db84b10ed91e9ee1122c511fddf7f6",
        "collapsed": true,
        "trusted": true
      },
      "cell_type": "code",
      "source": "",
      "execution_count": null,
      "outputs": []
    }
  ],
  "metadata": {
    "language_info": {
      "name": "python",
      "version": "3.6.3",
      "mimetype": "text/x-python",
      "codemirror_mode": {
        "name": "ipython",
        "version": 3
      },
      "pygments_lexer": "ipython3",
      "nbconvert_exporter": "python",
      "file_extension": ".py"
    },
    "kernelspec": {
      "display_name": "Python 3",
      "language": "python",
      "name": "python3"
    }
  },
  "nbformat": 4,
  "nbformat_minor": 1
}