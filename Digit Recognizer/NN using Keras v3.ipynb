{
 "cells": [
  {
   "cell_type": "code",
   "execution_count": 1,
   "metadata": {
    "_cell_guid": "de7a97e1-76dc-4ed7-b5e3-d09220031514",
    "_uuid": "53cf4606db5f47e06009866961a82ac2ee8fee1c"
   },
   "outputs": [
    {
     "name": "stderr",
     "output_type": "stream",
     "text": [
      "Using TensorFlow backend.\n"
     ]
    }
   ],
   "source": [
    "# This Python 3 environment comes with many helpful analytics libraries installed\n",
    "# It is defined by the kaggle/python docker image: https://github.com/kaggle/docker-python\n",
    "# For example, here's several helpful packages to load in \n",
    "\n",
    "import numpy as np # linear algebra\n",
    "import pandas as pd # data processing, CSV file I/O (e.g. pd.read_csv)\n",
    "import matplotlib.pyplot as plt\n",
    "%matplotlib inline\n",
    "\n",
    "from keras.models import Sequential\n",
    "from keras.layers import Dense,Dropout, Activation,Lambda,Flatten\n",
    "from keras.optimizers import Adam , RMSprop\n",
    "from sklearn.model_selection import train_test_split\n"
   ]
  },
  {
   "cell_type": "code",
   "execution_count": 2,
   "metadata": {
    "_cell_guid": "e25ba469-eb42-46e9-a410-a9b6609ab737",
    "_uuid": "60adba5bc07fba217076c9944d3b5f4f255988ee"
   },
   "outputs": [
    {
     "name": "stdout",
     "output_type": "stream",
     "text": [
      "(42000, 785)\n"
     ]
    },
    {
     "data": {
      "text/html": [
       "<div>\n",
       "<style>\n",
       "    .dataframe thead tr:only-child th {\n",
       "        text-align: right;\n",
       "    }\n",
       "\n",
       "    .dataframe thead th {\n",
       "        text-align: left;\n",
       "    }\n",
       "\n",
       "    .dataframe tbody tr th {\n",
       "        vertical-align: top;\n",
       "    }\n",
       "</style>\n",
       "<table border=\"1\" class=\"dataframe\">\n",
       "  <thead>\n",
       "    <tr style=\"text-align: right;\">\n",
       "      <th></th>\n",
       "      <th>label</th>\n",
       "      <th>pixel0</th>\n",
       "      <th>pixel1</th>\n",
       "      <th>pixel2</th>\n",
       "      <th>pixel3</th>\n",
       "      <th>pixel4</th>\n",
       "      <th>pixel5</th>\n",
       "      <th>pixel6</th>\n",
       "      <th>pixel7</th>\n",
       "      <th>pixel8</th>\n",
       "      <th>...</th>\n",
       "      <th>pixel774</th>\n",
       "      <th>pixel775</th>\n",
       "      <th>pixel776</th>\n",
       "      <th>pixel777</th>\n",
       "      <th>pixel778</th>\n",
       "      <th>pixel779</th>\n",
       "      <th>pixel780</th>\n",
       "      <th>pixel781</th>\n",
       "      <th>pixel782</th>\n",
       "      <th>pixel783</th>\n",
       "    </tr>\n",
       "  </thead>\n",
       "  <tbody>\n",
       "    <tr>\n",
       "      <th>0</th>\n",
       "      <td>1</td>\n",
       "      <td>0</td>\n",
       "      <td>0</td>\n",
       "      <td>0</td>\n",
       "      <td>0</td>\n",
       "      <td>0</td>\n",
       "      <td>0</td>\n",
       "      <td>0</td>\n",
       "      <td>0</td>\n",
       "      <td>0</td>\n",
       "      <td>...</td>\n",
       "      <td>0</td>\n",
       "      <td>0</td>\n",
       "      <td>0</td>\n",
       "      <td>0</td>\n",
       "      <td>0</td>\n",
       "      <td>0</td>\n",
       "      <td>0</td>\n",
       "      <td>0</td>\n",
       "      <td>0</td>\n",
       "      <td>0</td>\n",
       "    </tr>\n",
       "    <tr>\n",
       "      <th>1</th>\n",
       "      <td>0</td>\n",
       "      <td>0</td>\n",
       "      <td>0</td>\n",
       "      <td>0</td>\n",
       "      <td>0</td>\n",
       "      <td>0</td>\n",
       "      <td>0</td>\n",
       "      <td>0</td>\n",
       "      <td>0</td>\n",
       "      <td>0</td>\n",
       "      <td>...</td>\n",
       "      <td>0</td>\n",
       "      <td>0</td>\n",
       "      <td>0</td>\n",
       "      <td>0</td>\n",
       "      <td>0</td>\n",
       "      <td>0</td>\n",
       "      <td>0</td>\n",
       "      <td>0</td>\n",
       "      <td>0</td>\n",
       "      <td>0</td>\n",
       "    </tr>\n",
       "    <tr>\n",
       "      <th>2</th>\n",
       "      <td>1</td>\n",
       "      <td>0</td>\n",
       "      <td>0</td>\n",
       "      <td>0</td>\n",
       "      <td>0</td>\n",
       "      <td>0</td>\n",
       "      <td>0</td>\n",
       "      <td>0</td>\n",
       "      <td>0</td>\n",
       "      <td>0</td>\n",
       "      <td>...</td>\n",
       "      <td>0</td>\n",
       "      <td>0</td>\n",
       "      <td>0</td>\n",
       "      <td>0</td>\n",
       "      <td>0</td>\n",
       "      <td>0</td>\n",
       "      <td>0</td>\n",
       "      <td>0</td>\n",
       "      <td>0</td>\n",
       "      <td>0</td>\n",
       "    </tr>\n",
       "    <tr>\n",
       "      <th>3</th>\n",
       "      <td>4</td>\n",
       "      <td>0</td>\n",
       "      <td>0</td>\n",
       "      <td>0</td>\n",
       "      <td>0</td>\n",
       "      <td>0</td>\n",
       "      <td>0</td>\n",
       "      <td>0</td>\n",
       "      <td>0</td>\n",
       "      <td>0</td>\n",
       "      <td>...</td>\n",
       "      <td>0</td>\n",
       "      <td>0</td>\n",
       "      <td>0</td>\n",
       "      <td>0</td>\n",
       "      <td>0</td>\n",
       "      <td>0</td>\n",
       "      <td>0</td>\n",
       "      <td>0</td>\n",
       "      <td>0</td>\n",
       "      <td>0</td>\n",
       "    </tr>\n",
       "    <tr>\n",
       "      <th>4</th>\n",
       "      <td>0</td>\n",
       "      <td>0</td>\n",
       "      <td>0</td>\n",
       "      <td>0</td>\n",
       "      <td>0</td>\n",
       "      <td>0</td>\n",
       "      <td>0</td>\n",
       "      <td>0</td>\n",
       "      <td>0</td>\n",
       "      <td>0</td>\n",
       "      <td>...</td>\n",
       "      <td>0</td>\n",
       "      <td>0</td>\n",
       "      <td>0</td>\n",
       "      <td>0</td>\n",
       "      <td>0</td>\n",
       "      <td>0</td>\n",
       "      <td>0</td>\n",
       "      <td>0</td>\n",
       "      <td>0</td>\n",
       "      <td>0</td>\n",
       "    </tr>\n",
       "  </tbody>\n",
       "</table>\n",
       "<p>5 rows × 785 columns</p>\n",
       "</div>"
      ],
      "text/plain": [
       "   label  pixel0  pixel1  pixel2  pixel3  pixel4  pixel5  pixel6  pixel7  \\\n",
       "0      1       0       0       0       0       0       0       0       0   \n",
       "1      0       0       0       0       0       0       0       0       0   \n",
       "2      1       0       0       0       0       0       0       0       0   \n",
       "3      4       0       0       0       0       0       0       0       0   \n",
       "4      0       0       0       0       0       0       0       0       0   \n",
       "\n",
       "   pixel8    ...     pixel774  pixel775  pixel776  pixel777  pixel778  \\\n",
       "0       0    ...            0         0         0         0         0   \n",
       "1       0    ...            0         0         0         0         0   \n",
       "2       0    ...            0         0         0         0         0   \n",
       "3       0    ...            0         0         0         0         0   \n",
       "4       0    ...            0         0         0         0         0   \n",
       "\n",
       "   pixel779  pixel780  pixel781  pixel782  pixel783  \n",
       "0         0         0         0         0         0  \n",
       "1         0         0         0         0         0  \n",
       "2         0         0         0         0         0  \n",
       "3         0         0         0         0         0  \n",
       "4         0         0         0         0         0  \n",
       "\n",
       "[5 rows x 785 columns]"
      ]
     },
     "execution_count": 2,
     "metadata": {},
     "output_type": "execute_result"
    }
   ],
   "source": [
    "train=pd.read_csv(\"train.csv\")\n",
    "print(train.shape)\n",
    "train.head()"
   ]
  },
  {
   "cell_type": "code",
   "execution_count": 3,
   "metadata": {
    "_cell_guid": "2cbadf6a-7efd-4a0c-b60e-1f6de9397681",
    "_uuid": "23532a2bdaa5324fe7ee55559994f5ac56876260"
   },
   "outputs": [
    {
     "name": "stdout",
     "output_type": "stream",
     "text": [
      "(28000, 784)\n"
     ]
    },
    {
     "data": {
      "text/html": [
       "<div>\n",
       "<style>\n",
       "    .dataframe thead tr:only-child th {\n",
       "        text-align: right;\n",
       "    }\n",
       "\n",
       "    .dataframe thead th {\n",
       "        text-align: left;\n",
       "    }\n",
       "\n",
       "    .dataframe tbody tr th {\n",
       "        vertical-align: top;\n",
       "    }\n",
       "</style>\n",
       "<table border=\"1\" class=\"dataframe\">\n",
       "  <thead>\n",
       "    <tr style=\"text-align: right;\">\n",
       "      <th></th>\n",
       "      <th>pixel0</th>\n",
       "      <th>pixel1</th>\n",
       "      <th>pixel2</th>\n",
       "      <th>pixel3</th>\n",
       "      <th>pixel4</th>\n",
       "      <th>pixel5</th>\n",
       "      <th>pixel6</th>\n",
       "      <th>pixel7</th>\n",
       "      <th>pixel8</th>\n",
       "      <th>pixel9</th>\n",
       "      <th>...</th>\n",
       "      <th>pixel774</th>\n",
       "      <th>pixel775</th>\n",
       "      <th>pixel776</th>\n",
       "      <th>pixel777</th>\n",
       "      <th>pixel778</th>\n",
       "      <th>pixel779</th>\n",
       "      <th>pixel780</th>\n",
       "      <th>pixel781</th>\n",
       "      <th>pixel782</th>\n",
       "      <th>pixel783</th>\n",
       "    </tr>\n",
       "  </thead>\n",
       "  <tbody>\n",
       "    <tr>\n",
       "      <th>0</th>\n",
       "      <td>0</td>\n",
       "      <td>0</td>\n",
       "      <td>0</td>\n",
       "      <td>0</td>\n",
       "      <td>0</td>\n",
       "      <td>0</td>\n",
       "      <td>0</td>\n",
       "      <td>0</td>\n",
       "      <td>0</td>\n",
       "      <td>0</td>\n",
       "      <td>...</td>\n",
       "      <td>0</td>\n",
       "      <td>0</td>\n",
       "      <td>0</td>\n",
       "      <td>0</td>\n",
       "      <td>0</td>\n",
       "      <td>0</td>\n",
       "      <td>0</td>\n",
       "      <td>0</td>\n",
       "      <td>0</td>\n",
       "      <td>0</td>\n",
       "    </tr>\n",
       "    <tr>\n",
       "      <th>1</th>\n",
       "      <td>0</td>\n",
       "      <td>0</td>\n",
       "      <td>0</td>\n",
       "      <td>0</td>\n",
       "      <td>0</td>\n",
       "      <td>0</td>\n",
       "      <td>0</td>\n",
       "      <td>0</td>\n",
       "      <td>0</td>\n",
       "      <td>0</td>\n",
       "      <td>...</td>\n",
       "      <td>0</td>\n",
       "      <td>0</td>\n",
       "      <td>0</td>\n",
       "      <td>0</td>\n",
       "      <td>0</td>\n",
       "      <td>0</td>\n",
       "      <td>0</td>\n",
       "      <td>0</td>\n",
       "      <td>0</td>\n",
       "      <td>0</td>\n",
       "    </tr>\n",
       "    <tr>\n",
       "      <th>2</th>\n",
       "      <td>0</td>\n",
       "      <td>0</td>\n",
       "      <td>0</td>\n",
       "      <td>0</td>\n",
       "      <td>0</td>\n",
       "      <td>0</td>\n",
       "      <td>0</td>\n",
       "      <td>0</td>\n",
       "      <td>0</td>\n",
       "      <td>0</td>\n",
       "      <td>...</td>\n",
       "      <td>0</td>\n",
       "      <td>0</td>\n",
       "      <td>0</td>\n",
       "      <td>0</td>\n",
       "      <td>0</td>\n",
       "      <td>0</td>\n",
       "      <td>0</td>\n",
       "      <td>0</td>\n",
       "      <td>0</td>\n",
       "      <td>0</td>\n",
       "    </tr>\n",
       "    <tr>\n",
       "      <th>3</th>\n",
       "      <td>0</td>\n",
       "      <td>0</td>\n",
       "      <td>0</td>\n",
       "      <td>0</td>\n",
       "      <td>0</td>\n",
       "      <td>0</td>\n",
       "      <td>0</td>\n",
       "      <td>0</td>\n",
       "      <td>0</td>\n",
       "      <td>0</td>\n",
       "      <td>...</td>\n",
       "      <td>0</td>\n",
       "      <td>0</td>\n",
       "      <td>0</td>\n",
       "      <td>0</td>\n",
       "      <td>0</td>\n",
       "      <td>0</td>\n",
       "      <td>0</td>\n",
       "      <td>0</td>\n",
       "      <td>0</td>\n",
       "      <td>0</td>\n",
       "    </tr>\n",
       "    <tr>\n",
       "      <th>4</th>\n",
       "      <td>0</td>\n",
       "      <td>0</td>\n",
       "      <td>0</td>\n",
       "      <td>0</td>\n",
       "      <td>0</td>\n",
       "      <td>0</td>\n",
       "      <td>0</td>\n",
       "      <td>0</td>\n",
       "      <td>0</td>\n",
       "      <td>0</td>\n",
       "      <td>...</td>\n",
       "      <td>0</td>\n",
       "      <td>0</td>\n",
       "      <td>0</td>\n",
       "      <td>0</td>\n",
       "      <td>0</td>\n",
       "      <td>0</td>\n",
       "      <td>0</td>\n",
       "      <td>0</td>\n",
       "      <td>0</td>\n",
       "      <td>0</td>\n",
       "    </tr>\n",
       "  </tbody>\n",
       "</table>\n",
       "<p>5 rows × 784 columns</p>\n",
       "</div>"
      ],
      "text/plain": [
       "   pixel0  pixel1  pixel2  pixel3  pixel4  pixel5  pixel6  pixel7  pixel8  \\\n",
       "0       0       0       0       0       0       0       0       0       0   \n",
       "1       0       0       0       0       0       0       0       0       0   \n",
       "2       0       0       0       0       0       0       0       0       0   \n",
       "3       0       0       0       0       0       0       0       0       0   \n",
       "4       0       0       0       0       0       0       0       0       0   \n",
       "\n",
       "   pixel9    ...     pixel774  pixel775  pixel776  pixel777  pixel778  \\\n",
       "0       0    ...            0         0         0         0         0   \n",
       "1       0    ...            0         0         0         0         0   \n",
       "2       0    ...            0         0         0         0         0   \n",
       "3       0    ...            0         0         0         0         0   \n",
       "4       0    ...            0         0         0         0         0   \n",
       "\n",
       "   pixel779  pixel780  pixel781  pixel782  pixel783  \n",
       "0         0         0         0         0         0  \n",
       "1         0         0         0         0         0  \n",
       "2         0         0         0         0         0  \n",
       "3         0         0         0         0         0  \n",
       "4         0         0         0         0         0  \n",
       "\n",
       "[5 rows x 784 columns]"
      ]
     },
     "execution_count": 3,
     "metadata": {},
     "output_type": "execute_result"
    }
   ],
   "source": [
    "test=pd.read_csv(\"test.csv\")\n",
    "print(test.shape)\n",
    "test.head()"
   ]
  },
  {
   "cell_type": "code",
   "execution_count": 4,
   "metadata": {
    "_cell_guid": "40ac430c-ab43-4299-88fa-6ca6846ccdec",
    "_uuid": "9a62c319dbce50003c1df9d7e4f65f3c176c48e2"
   },
   "outputs": [
    {
     "name": "stderr",
     "output_type": "stream",
     "text": [
      "C:\\Users\\Sahil\\Anaconda3\\lib\\site-packages\\ipykernel_launcher.py:1: DeprecationWarning: \n",
      ".ix is deprecated. Please use\n",
      ".loc for label based indexing or\n",
      ".iloc for positional indexing\n",
      "\n",
      "See the documentation here:\n",
      "http://pandas.pydata.org/pandas-docs/stable/indexing.html#deprecate_ix\n",
      "  \"\"\"Entry point for launching an IPython kernel.\n"
     ]
    }
   ],
   "source": [
    "x_train=(train.ix[:,1:].values).astype('float32')\n",
    "y_train=train.ix[:,0].values.astype('int32')\n",
    "\n",
    "x_test=test.values.astype('float32')"
   ]
  },
  {
   "cell_type": "code",
   "execution_count": 5,
   "metadata": {
    "_cell_guid": "182e7c03-e1a5-4aac-9aa2-3a5c42998726",
    "_uuid": "71af60fd913c01c1b91872ae3aa6b88e7c87ae65"
   },
   "outputs": [
    {
     "data": {
      "text/plain": [
       "(42000, 784)"
      ]
     },
     "execution_count": 5,
     "metadata": {},
     "output_type": "execute_result"
    }
   ],
   "source": [
    "x_train.shape"
   ]
  },
  {
   "cell_type": "code",
   "execution_count": 6,
   "metadata": {
    "_cell_guid": "fef6af1d-6cb3-4f8a-85c3-b69bc77e3f27",
    "_uuid": "879b4688d6bb4df64be0e43750bff1e74ca63497"
   },
   "outputs": [
    {
     "data": {
      "text/plain": [
       "(42000,)"
      ]
     },
     "execution_count": 6,
     "metadata": {},
     "output_type": "execute_result"
    }
   ],
   "source": [
    "y_train.shape"
   ]
  },
  {
   "cell_type": "markdown",
   "metadata": {
    "_cell_guid": "f83ccbc0-655b-4823-81c1-3100b6518c2c",
    "_uuid": "bf9cd81241ad099804d824d0155a52b2c4ea1836"
   },
   "source": [
    "**Previewing image**"
   ]
  },
  {
   "cell_type": "code",
   "execution_count": 7,
   "metadata": {
    "_cell_guid": "460d3966-4aa9-4519-a9b1-2cd835bfdf26",
    "_uuid": "42c11326e0997026214a878d508cdc4fec01f09f",
    "collapsed": true
   },
   "outputs": [],
   "source": [
    "x_train=x_train.reshape(x_train.shape[0],28,28)"
   ]
  },
  {
   "cell_type": "code",
   "execution_count": 8,
   "metadata": {
    "_cell_guid": "dc390eb0-717f-4d7e-8f85-c0e3c76aa067",
    "_uuid": "54042aac6fd3f1f709567a2abdaa9bf285a2c805"
   },
   "outputs": [
    {
     "data": {
      "text/plain": [
       "(42000, 28, 28)"
      ]
     },
     "execution_count": 8,
     "metadata": {},
     "output_type": "execute_result"
    }
   ],
   "source": [
    "x_train.shape"
   ]
  },
  {
   "cell_type": "code",
   "execution_count": 9,
   "metadata": {
    "_cell_guid": "a1309738-89a7-40e9-8c6e-00ac960c638d",
    "_uuid": "1010a46d8c42f16120e60edf4eff1aad524e9bcc"
   },
   "outputs": [
    {
     "name": "stdout",
     "output_type": "stream",
     "text": [
      "Number is 7\n"
     ]
    },
    {
     "data": {
      "image/png": "[encoded data removed]",
      "text/plain": [
       "<matplotlib.figure.Figure at 0xfb48208>"
      ]
     },
     "metadata": {},
     "output_type": "display_data"
    }
   ],
   "source": [
    "#change index to view other images\n",
    "index=678\n",
    "plt.imshow(x_train[index])\n",
    "print('Number is',y_train[index])"
   ]
  },
  {
   "cell_type": "code",
   "execution_count": 10,
   "metadata": {
    "_cell_guid": "1dd7630c-1495-4794-a5bc-7f082ca6da82",
    "_uuid": "53b7327172ea4ee69c99bc468f7bf4c2a4099697",
    "collapsed": true
   },
   "outputs": [],
   "source": [
    "x_train=x_train.reshape(x_train.shape[0],28*28)"
   ]
  },
  {
   "cell_type": "code",
   "execution_count": 11,
   "metadata": {
    "_cell_guid": "bace16f6-7e0f-4594-9b86-c42344f47c6d",
    "_uuid": "40999d4aa6b9976e85426fb20e1f5c5bfa956f93"
   },
   "outputs": [
    {
     "data": {
      "text/plain": [
       "((42000, 784), (28000, 784))"
      ]
     },
     "execution_count": 11,
     "metadata": {},
     "output_type": "execute_result"
    }
   ],
   "source": [
    "x_train.shape,x_test.shape"
   ]
  },
  {
   "cell_type": "markdown",
   "metadata": {
    "_cell_guid": "933e781a-8240-402a-a707-aa6bfc5ca99e",
    "_uuid": "967c9e78c8d1131bffb8d9d0ce8167da6bafa366"
   },
   "source": [
    "**Preprocessing**"
   ]
  },
  {
   "cell_type": "code",
   "execution_count": 12,
   "metadata": {
    "collapsed": true
   },
   "outputs": [],
   "source": [
    "x_train/=255\n",
    "x_test/=255"
   ]
  },
  {
   "cell_type": "code",
   "execution_count": 13,
   "metadata": {
    "_cell_guid": "acbe41ec-2cb5-467b-86c4-f4ec745925e6",
    "_uuid": "7c2accd18e1c2bbd45ec28fda3fbd6189d81d305",
    "collapsed": true
   },
   "outputs": [],
   "source": [
    "#One Hot Encoding \n",
    "#I guess everybody knows this otherwise google\n",
    "\n",
    "from keras.utils.np_utils import to_categorical\n",
    "y_train=to_categorical(y_train,num_classes=10)"
   ]
  },
  {
   "cell_type": "code",
   "execution_count": 14,
   "metadata": {
    "_cell_guid": "395677a4-d6ed-4d66-a1be-538dd7a6204c",
    "_uuid": "53bdd701bc545395ca6ae436da7cff32be79a3b9"
   },
   "outputs": [
    {
     "data": {
      "text/plain": [
       "(42000, 10)"
      ]
     },
     "execution_count": 14,
     "metadata": {},
     "output_type": "execute_result"
    }
   ],
   "source": [
    "y_train.shape"
   ]
  },
  {
   "cell_type": "code",
   "execution_count": 15,
   "metadata": {
    "_cell_guid": "2a3d29bd-a30d-4b2e-8aed-e920ccb4c667",
    "_uuid": "9a4b7ee889f71198b4712e50d50a02cabcf6840d"
   },
   "outputs": [
    {
     "name": "stdout",
     "output_type": "stream",
     "text": [
      "[ 0.  0.  0.  0.  0.  0.  0.  1.  0.  0.]\n"
     ]
    },
    {
     "data": {
      "image/png": "[encoded data removed]",
      "text/plain": [
       "<matplotlib.figure.Figure at 0xfb48390>"
      ]
     },
     "metadata": {},
     "output_type": "display_data"
    }
   ],
   "source": [
    "#same as above to verify as if it correct\n",
    "print(y_train[index])\n",
    "plt.plot(y_train[index])\n",
    "plt.xticks(range(10))\n",
    "plt.show()"
   ]
  },
  {
   "cell_type": "markdown",
   "metadata": {
    "_cell_guid": "e293fefd-7428-40bd-abe3-c43f97a2a765",
    "_uuid": "fb1da1c79705cda5c25d67a1aca6c31f0c1411d8"
   },
   "source": [
    "**NN**"
   ]
  },
  {
   "cell_type": "code",
   "execution_count": 16,
   "metadata": {
    "_cell_guid": "993f6460-6320-4749-8643-70653aa3fd6a",
    "_uuid": "ae50163bad9121f87a90ab53e3e6696e6f739201",
    "collapsed": true
   },
   "outputs": [],
   "source": [
    "np.random.seed(34)"
   ]
  },
  {
   "cell_type": "markdown",
   "metadata": {},
   "source": [
    "# Model 1"
   ]
  },
  {
   "cell_type": "code",
   "execution_count": 87,
   "metadata": {
    "collapsed": true
   },
   "outputs": [],
   "source": [
    "model=Sequential()\n",
    "model.add(Dense(32,activation=\"relu\",input_dim=784))\n",
    "model.add(Dropout(0.15))\n",
    "model.add(Dense(16,activation=\"relu\"))\n",
    "model.add(Dropout(0.15))\n",
    "model.add(Dense(10,activation='softmax'))"
   ]
  },
  {
   "cell_type": "code",
   "execution_count": 88,
   "metadata": {},
   "outputs": [
    {
     "name": "stdout",
     "output_type": "stream",
     "text": [
      "_________________________________________________________________\n",
      "Layer (type)                 Output Shape              Param #   \n",
      "=================================================================\n",
      "dense_19 (Dense)             (None, 32)                25120     \n",
      "_________________________________________________________________\n",
      "dropout_13 (Dropout)         (None, 32)                0         \n",
      "_________________________________________________________________\n",
      "dense_20 (Dense)             (None, 16)                528       \n",
      "_________________________________________________________________\n",
      "dropout_14 (Dropout)         (None, 16)                0         \n",
      "_________________________________________________________________\n",
      "dense_21 (Dense)             (None, 10)                170       \n",
      "=================================================================\n",
      "Total params: 25,818\n",
      "Trainable params: 25,818\n",
      "Non-trainable params: 0\n",
      "_________________________________________________________________\n"
     ]
    }
   ],
   "source": [
    "model.summary()"
   ]
  },
  {
   "cell_type": "code",
   "execution_count": 89,
   "metadata": {
    "collapsed": true
   },
   "outputs": [],
   "source": [
    "model.compile(optimizer=RMSprop(lr=0.005),\n",
    "             loss='categorical_crossentropy',\n",
    "             metrics=['accuracy'])"
   ]
  },
  {
   "cell_type": "code",
   "execution_count": 90,
   "metadata": {},
   "outputs": [
    {
     "name": "stdout",
     "output_type": "stream",
     "text": [
      "Train on 39900 samples, validate on 2100 samples\n",
      "Epoch 1/50\n",
      "39900/39900 [==============================] - 6s 162us/step - loss: 0.5837 - acc: 0.8187 - val_loss: 0.2696 - val_acc: 0.9243\n",
      "Epoch 2/50\n",
      "39900/39900 [==============================] - 5s 123us/step - loss: 0.3661 - acc: 0.8946 - val_loss: 0.2540 - val_acc: 0.9224\n",
      "Epoch 3/50\n",
      "39900/39900 [==============================] - 5s 122us/step - loss: 0.3224 - acc: 0.9086 - val_loss: 0.2376 - val_acc: 0.9367\n",
      "Epoch 4/50\n",
      "39900/39900 [==============================] - 5s 119us/step - loss: 0.3059 - acc: 0.9148 - val_loss: 0.2267 - val_acc: 0.9414\n",
      "Epoch 5/50\n",
      "39900/39900 [==============================] - 5s 120us/step - loss: 0.2916 - acc: 0.9195 - val_loss: 0.2213 - val_acc: 0.9438\n",
      "Epoch 6/50\n",
      "39900/39900 [==============================] - 5s 122us/step - loss: 0.2904 - acc: 0.9220 - val_loss: 0.2094 - val_acc: 0.9495\n",
      "Epoch 7/50\n",
      "39900/39900 [==============================] - 5s 124us/step - loss: 0.2794 - acc: 0.9247 - val_loss: 0.2186 - val_acc: 0.9443\n",
      "Epoch 8/50\n",
      "39900/39900 [==============================] - 5s 121us/step - loss: 0.2771 - acc: 0.9260 - val_loss: 0.2092 - val_acc: 0.9438\n",
      "Epoch 9/50\n",
      "39900/39900 [==============================] - 5s 133us/step - loss: 0.2733 - acc: 0.9270 - val_loss: 0.2248 - val_acc: 0.9452\n",
      "Epoch 10/50\n",
      "39900/39900 [==============================] - 5s 128us/step - loss: 0.2709 - acc: 0.9281 - val_loss: 0.2375 - val_acc: 0.9429\n",
      "Epoch 11/50\n",
      "39900/39900 [==============================] - 5s 129us/step - loss: 0.2675 - acc: 0.9279 - val_loss: 0.2041 - val_acc: 0.9457\n",
      "Epoch 12/50\n",
      "39900/39900 [==============================] - 5s 126us/step - loss: 0.2688 - acc: 0.9282 - val_loss: 0.2098 - val_acc: 0.9505\n",
      "Epoch 13/50\n",
      "39900/39900 [==============================] - 5s 131us/step - loss: 0.2602 - acc: 0.9316 - val_loss: 0.2486 - val_acc: 0.9476\n",
      "Epoch 14/50\n",
      "39900/39900 [==============================] - 6s 140us/step - loss: 0.2617 - acc: 0.9317 - val_loss: 0.2149 - val_acc: 0.9490\n",
      "Epoch 15/50\n",
      "39900/39900 [==============================] - 5s 138us/step - loss: 0.2603 - acc: 0.9327 - val_loss: 0.2113 - val_acc: 0.9529\n",
      "Epoch 16/50\n",
      "39900/39900 [==============================] - 5s 138us/step - loss: 0.2657 - acc: 0.9322 - val_loss: 0.2327 - val_acc: 0.9481\n",
      "Epoch 17/50\n",
      "39900/39900 [==============================] - 6s 140us/step - loss: 0.2560 - acc: 0.9333 - val_loss: 0.2278 - val_acc: 0.9519\n",
      "Epoch 18/50\n",
      "39900/39900 [==============================] - 5s 121us/step - loss: 0.2612 - acc: 0.9331 - val_loss: 0.2373 - val_acc: 0.9462\n",
      "Epoch 19/50\n",
      "39900/39900 [==============================] - 5s 122us/step - loss: 0.2682 - acc: 0.9326 - val_loss: 0.2352 - val_acc: 0.9500\n",
      "Epoch 20/50\n",
      "39900/39900 [==============================] - 5s 137us/step - loss: 0.2601 - acc: 0.9335 - val_loss: 0.2345 - val_acc: 0.9486\n",
      "Epoch 21/50\n",
      "39900/39900 [==============================] - 5s 128us/step - loss: 0.2629 - acc: 0.9327 - val_loss: 0.2501 - val_acc: 0.9524\n",
      "Epoch 22/50\n",
      "39900/39900 [==============================] - 6s 142us/step - loss: 0.2581 - acc: 0.9352 - val_loss: 0.2572 - val_acc: 0.9524\n",
      "Epoch 23/50\n",
      "39900/39900 [==============================] - 5s 131us/step - loss: 0.2614 - acc: 0.9350 - val_loss: 0.2577 - val_acc: 0.9538\n",
      "Epoch 24/50\n",
      "39900/39900 [==============================] - 5s 136us/step - loss: 0.2616 - acc: 0.9360 - val_loss: 0.2731 - val_acc: 0.9505\n",
      "Epoch 25/50\n",
      "39900/39900 [==============================] - 5s 137us/step - loss: 0.2562 - acc: 0.9354 - val_loss: 0.2494 - val_acc: 0.9510\n",
      "Epoch 26/50\n",
      "39900/39900 [==============================] - 5s 130us/step - loss: 0.2567 - acc: 0.9361 - val_loss: 0.2627 - val_acc: 0.9462\n",
      "Epoch 27/50\n",
      "39900/39900 [==============================] - 5s 128us/step - loss: 0.2655 - acc: 0.9341 - val_loss: 0.2659 - val_acc: 0.9424\n",
      "Epoch 28/50\n",
      "39900/39900 [==============================] - 5s 135us/step - loss: 0.2611 - acc: 0.9361 - val_loss: 0.2564 - val_acc: 0.9467\n",
      "Epoch 29/50\n",
      "39900/39900 [==============================] - 7s 169us/step - loss: 0.2606 - acc: 0.9358 - val_loss: 0.2742 - val_acc: 0.9443\n",
      "Epoch 30/50\n",
      "39900/39900 [==============================] - 5s 116us/step - loss: 0.2637 - acc: 0.9343 - val_loss: 0.2578 - val_acc: 0.9400\n",
      "Epoch 31/50\n",
      "39900/39900 [==============================] - 5s 135us/step - loss: 0.2634 - acc: 0.9355 - val_loss: 0.2939 - val_acc: 0.9514\n",
      "Epoch 32/50\n",
      "39900/39900 [==============================] - 5s 120us/step - loss: 0.2603 - acc: 0.9359 - val_loss: 0.2789 - val_acc: 0.9486\n",
      "Epoch 33/50\n",
      "39900/39900 [==============================] - 5s 120us/step - loss: 0.2734 - acc: 0.9348 - val_loss: 0.2827 - val_acc: 0.9476\n",
      "Epoch 34/50\n",
      "39900/39900 [==============================] - 4s 101us/step - loss: 0.2723 - acc: 0.9359 - val_loss: 0.2789 - val_acc: 0.9510\n",
      "Epoch 35/50\n",
      "39900/39900 [==============================] - 4s 96us/step - loss: 0.2731 - acc: 0.9354 - val_loss: 0.2570 - val_acc: 0.9462\n",
      "Epoch 36/50\n",
      "39900/39900 [==============================] - 5s 113us/step - loss: 0.2693 - acc: 0.9338 - val_loss: 0.2530 - val_acc: 0.9519\n",
      "Epoch 37/50\n",
      "39900/39900 [==============================] - 4s 112us/step - loss: 0.2620 - acc: 0.9378 - val_loss: 0.3103 - val_acc: 0.9462\n",
      "Epoch 38/50\n",
      "39900/39900 [==============================] - 4s 112us/step - loss: 0.2670 - acc: 0.9366 - val_loss: 0.2888 - val_acc: 0.9467\n",
      "Epoch 39/50\n",
      "39900/39900 [==============================] - 4s 107us/step - loss: 0.2656 - acc: 0.9369 - val_loss: 0.2923 - val_acc: 0.9510\n",
      "Epoch 40/50\n",
      "39900/39900 [==============================] - 5s 119us/step - loss: 0.2660 - acc: 0.9374 - val_loss: 0.2778 - val_acc: 0.9490\n",
      "Epoch 41/50\n",
      "39900/39900 [==============================] - 5s 124us/step - loss: 0.2745 - acc: 0.9364 - val_loss: 0.2905 - val_acc: 0.9505\n",
      "Epoch 42/50\n",
      "39900/39900 [==============================] - 5s 124us/step - loss: 0.2729 - acc: 0.9379 - val_loss: 0.2912 - val_acc: 0.9452\n",
      "Epoch 43/50\n",
      "39900/39900 [==============================] - 6s 144us/step - loss: 0.2751 - acc: 0.9349 - val_loss: 0.3213 - val_acc: 0.9490\n",
      "Epoch 44/50\n",
      "39900/39900 [==============================] - 5s 130us/step - loss: 0.2682 - acc: 0.9367 - val_loss: 0.3374 - val_acc: 0.9490\n",
      "Epoch 45/50\n",
      "39900/39900 [==============================] - 5s 136us/step - loss: 0.2741 - acc: 0.9377 - val_loss: 0.3195 - val_acc: 0.9467\n",
      "Epoch 46/50\n",
      "39900/39900 [==============================] - 5s 132us/step - loss: 0.2817 - acc: 0.9365 - val_loss: 0.3207 - val_acc: 0.9490\n",
      "Epoch 47/50\n",
      "39900/39900 [==============================] - 5s 114us/step - loss: 0.2833 - acc: 0.9363 - val_loss: 0.3360 - val_acc: 0.9481\n",
      "Epoch 48/50\n",
      "39900/39900 [==============================] - 5s 118us/step - loss: 0.2825 - acc: 0.9354 - val_loss: 0.2708 - val_acc: 0.9452\n",
      "Epoch 49/50\n",
      "39900/39900 [==============================] - 4s 100us/step - loss: 0.2819 - acc: 0.9351 - val_loss: 0.3269 - val_acc: 0.9438\n",
      "Epoch 50/50\n",
      "39900/39900 [==============================] - 4s 97us/step - loss: 0.2804 - acc: 0.9369 - val_loss: 0.3189 - val_acc: 0.9443\n"
     ]
    }
   ],
   "source": [
    "cache=model.fit(x_train,y_train,epochs=50,batch_size=64, validation_split=0.05)"
   ]
  },
  {
   "cell_type": "code",
   "execution_count": 91,
   "metadata": {},
   "outputs": [
    {
     "data": {
      "text/html": [
       "<div>\n",
       "<style>\n",
       "    .dataframe thead tr:only-child th {\n",
       "        text-align: right;\n",
       "    }\n",
       "\n",
       "    .dataframe thead th {\n",
       "        text-align: left;\n",
       "    }\n",
       "\n",
       "    .dataframe tbody tr th {\n",
       "        vertical-align: top;\n",
       "    }\n",
       "</style>\n",
       "<table border=\"1\" class=\"dataframe\">\n",
       "  <thead>\n",
       "    <tr style=\"text-align: right;\">\n",
       "      <th></th>\n",
       "      <th>acc</th>\n",
       "      <th>loss</th>\n",
       "      <th>val_acc</th>\n",
       "      <th>val_loss</th>\n",
       "    </tr>\n",
       "  </thead>\n",
       "  <tbody>\n",
       "    <tr>\n",
       "      <th>0</th>\n",
       "      <td>0.818697</td>\n",
       "      <td>0.583680</td>\n",
       "      <td>0.924286</td>\n",
       "      <td>0.269561</td>\n",
       "    </tr>\n",
       "    <tr>\n",
       "      <th>1</th>\n",
       "      <td>0.894561</td>\n",
       "      <td>0.366105</td>\n",
       "      <td>0.922381</td>\n",
       "      <td>0.254002</td>\n",
       "    </tr>\n",
       "    <tr>\n",
       "      <th>2</th>\n",
       "      <td>0.908571</td>\n",
       "      <td>0.322356</td>\n",
       "      <td>0.936667</td>\n",
       "      <td>0.237590</td>\n",
       "    </tr>\n",
       "    <tr>\n",
       "      <th>3</th>\n",
       "      <td>0.914812</td>\n",
       "      <td>0.305943</td>\n",
       "      <td>0.941429</td>\n",
       "      <td>0.226732</td>\n",
       "    </tr>\n",
       "    <tr>\n",
       "      <th>4</th>\n",
       "      <td>0.919549</td>\n",
       "      <td>0.291637</td>\n",
       "      <td>0.943810</td>\n",
       "      <td>0.221289</td>\n",
       "    </tr>\n",
       "    <tr>\n",
       "      <th>5</th>\n",
       "      <td>0.921955</td>\n",
       "      <td>0.290364</td>\n",
       "      <td>0.949524</td>\n",
       "      <td>0.209410</td>\n",
       "    </tr>\n",
       "    <tr>\n",
       "      <th>6</th>\n",
       "      <td>0.924712</td>\n",
       "      <td>0.279431</td>\n",
       "      <td>0.944286</td>\n",
       "      <td>0.218577</td>\n",
       "    </tr>\n",
       "    <tr>\n",
       "      <th>7</th>\n",
       "      <td>0.925990</td>\n",
       "      <td>0.277077</td>\n",
       "      <td>0.943810</td>\n",
       "      <td>0.209247</td>\n",
       "    </tr>\n",
       "    <tr>\n",
       "      <th>8</th>\n",
       "      <td>0.926992</td>\n",
       "      <td>0.273271</td>\n",
       "      <td>0.945238</td>\n",
       "      <td>0.224771</td>\n",
       "    </tr>\n",
       "    <tr>\n",
       "      <th>9</th>\n",
       "      <td>0.928145</td>\n",
       "      <td>0.270892</td>\n",
       "      <td>0.942857</td>\n",
       "      <td>0.237495</td>\n",
       "    </tr>\n",
       "    <tr>\n",
       "      <th>10</th>\n",
       "      <td>0.927945</td>\n",
       "      <td>0.267456</td>\n",
       "      <td>0.945714</td>\n",
       "      <td>0.204094</td>\n",
       "    </tr>\n",
       "    <tr>\n",
       "      <th>11</th>\n",
       "      <td>0.928195</td>\n",
       "      <td>0.268774</td>\n",
       "      <td>0.950476</td>\n",
       "      <td>0.209847</td>\n",
       "    </tr>\n",
       "    <tr>\n",
       "      <th>12</th>\n",
       "      <td>0.931629</td>\n",
       "      <td>0.260162</td>\n",
       "      <td>0.947619</td>\n",
       "      <td>0.248645</td>\n",
       "    </tr>\n",
       "    <tr>\n",
       "      <th>13</th>\n",
       "      <td>0.931654</td>\n",
       "      <td>0.261694</td>\n",
       "      <td>0.949048</td>\n",
       "      <td>0.214905</td>\n",
       "    </tr>\n",
       "    <tr>\n",
       "      <th>14</th>\n",
       "      <td>0.932707</td>\n",
       "      <td>0.260327</td>\n",
       "      <td>0.952857</td>\n",
       "      <td>0.211299</td>\n",
       "    </tr>\n",
       "    <tr>\n",
       "      <th>15</th>\n",
       "      <td>0.932155</td>\n",
       "      <td>0.265694</td>\n",
       "      <td>0.948095</td>\n",
       "      <td>0.232673</td>\n",
       "    </tr>\n",
       "    <tr>\n",
       "      <th>16</th>\n",
       "      <td>0.933258</td>\n",
       "      <td>0.256020</td>\n",
       "      <td>0.951905</td>\n",
       "      <td>0.227794</td>\n",
       "    </tr>\n",
       "    <tr>\n",
       "      <th>17</th>\n",
       "      <td>0.933133</td>\n",
       "      <td>0.261166</td>\n",
       "      <td>0.946190</td>\n",
       "      <td>0.237343</td>\n",
       "    </tr>\n",
       "    <tr>\n",
       "      <th>18</th>\n",
       "      <td>0.932632</td>\n",
       "      <td>0.268239</td>\n",
       "      <td>0.950000</td>\n",
       "      <td>0.235244</td>\n",
       "    </tr>\n",
       "    <tr>\n",
       "      <th>19</th>\n",
       "      <td>0.933484</td>\n",
       "      <td>0.260108</td>\n",
       "      <td>0.948571</td>\n",
       "      <td>0.234505</td>\n",
       "    </tr>\n",
       "    <tr>\n",
       "      <th>20</th>\n",
       "      <td>0.932732</td>\n",
       "      <td>0.262881</td>\n",
       "      <td>0.952381</td>\n",
       "      <td>0.250134</td>\n",
       "    </tr>\n",
       "    <tr>\n",
       "      <th>21</th>\n",
       "      <td>0.935238</td>\n",
       "      <td>0.258114</td>\n",
       "      <td>0.952381</td>\n",
       "      <td>0.257208</td>\n",
       "    </tr>\n",
       "    <tr>\n",
       "      <th>22</th>\n",
       "      <td>0.935038</td>\n",
       "      <td>0.261429</td>\n",
       "      <td>0.953810</td>\n",
       "      <td>0.257678</td>\n",
       "    </tr>\n",
       "    <tr>\n",
       "      <th>23</th>\n",
       "      <td>0.935990</td>\n",
       "      <td>0.261622</td>\n",
       "      <td>0.950476</td>\n",
       "      <td>0.273052</td>\n",
       "    </tr>\n",
       "    <tr>\n",
       "      <th>24</th>\n",
       "      <td>0.935363</td>\n",
       "      <td>0.256167</td>\n",
       "      <td>0.950952</td>\n",
       "      <td>0.249365</td>\n",
       "    </tr>\n",
       "    <tr>\n",
       "      <th>25</th>\n",
       "      <td>0.936115</td>\n",
       "      <td>0.256677</td>\n",
       "      <td>0.946190</td>\n",
       "      <td>0.262691</td>\n",
       "    </tr>\n",
       "    <tr>\n",
       "      <th>26</th>\n",
       "      <td>0.934060</td>\n",
       "      <td>0.265542</td>\n",
       "      <td>0.942381</td>\n",
       "      <td>0.265902</td>\n",
       "    </tr>\n",
       "    <tr>\n",
       "      <th>27</th>\n",
       "      <td>0.936065</td>\n",
       "      <td>0.261113</td>\n",
       "      <td>0.946667</td>\n",
       "      <td>0.256366</td>\n",
       "    </tr>\n",
       "    <tr>\n",
       "      <th>28</th>\n",
       "      <td>0.935789</td>\n",
       "      <td>0.260623</td>\n",
       "      <td>0.944286</td>\n",
       "      <td>0.274193</td>\n",
       "    </tr>\n",
       "    <tr>\n",
       "      <th>29</th>\n",
       "      <td>0.934261</td>\n",
       "      <td>0.263667</td>\n",
       "      <td>0.940000</td>\n",
       "      <td>0.257830</td>\n",
       "    </tr>\n",
       "    <tr>\n",
       "      <th>30</th>\n",
       "      <td>0.935539</td>\n",
       "      <td>0.263361</td>\n",
       "      <td>0.951429</td>\n",
       "      <td>0.293901</td>\n",
       "    </tr>\n",
       "    <tr>\n",
       "      <th>31</th>\n",
       "      <td>0.935865</td>\n",
       "      <td>0.260349</td>\n",
       "      <td>0.948571</td>\n",
       "      <td>0.278868</td>\n",
       "    </tr>\n",
       "    <tr>\n",
       "      <th>32</th>\n",
       "      <td>0.934812</td>\n",
       "      <td>0.273370</td>\n",
       "      <td>0.947619</td>\n",
       "      <td>0.282736</td>\n",
       "    </tr>\n",
       "    <tr>\n",
       "      <th>33</th>\n",
       "      <td>0.935915</td>\n",
       "      <td>0.272339</td>\n",
       "      <td>0.950952</td>\n",
       "      <td>0.278940</td>\n",
       "    </tr>\n",
       "    <tr>\n",
       "      <th>34</th>\n",
       "      <td>0.935363</td>\n",
       "      <td>0.273076</td>\n",
       "      <td>0.946190</td>\n",
       "      <td>0.257049</td>\n",
       "    </tr>\n",
       "    <tr>\n",
       "      <th>35</th>\n",
       "      <td>0.933759</td>\n",
       "      <td>0.269263</td>\n",
       "      <td>0.951905</td>\n",
       "      <td>0.253006</td>\n",
       "    </tr>\n",
       "    <tr>\n",
       "      <th>36</th>\n",
       "      <td>0.937769</td>\n",
       "      <td>0.261968</td>\n",
       "      <td>0.946190</td>\n",
       "      <td>0.310344</td>\n",
       "    </tr>\n",
       "    <tr>\n",
       "      <th>37</th>\n",
       "      <td>0.936566</td>\n",
       "      <td>0.266982</td>\n",
       "      <td>0.946667</td>\n",
       "      <td>0.288816</td>\n",
       "    </tr>\n",
       "    <tr>\n",
       "      <th>38</th>\n",
       "      <td>0.936867</td>\n",
       "      <td>0.265589</td>\n",
       "      <td>0.950952</td>\n",
       "      <td>0.292335</td>\n",
       "    </tr>\n",
       "    <tr>\n",
       "      <th>39</th>\n",
       "      <td>0.937419</td>\n",
       "      <td>0.265964</td>\n",
       "      <td>0.949048</td>\n",
       "      <td>0.277794</td>\n",
       "    </tr>\n",
       "    <tr>\n",
       "      <th>40</th>\n",
       "      <td>0.936416</td>\n",
       "      <td>0.274488</td>\n",
       "      <td>0.950476</td>\n",
       "      <td>0.290489</td>\n",
       "    </tr>\n",
       "    <tr>\n",
       "      <th>41</th>\n",
       "      <td>0.937895</td>\n",
       "      <td>0.272889</td>\n",
       "      <td>0.945238</td>\n",
       "      <td>0.291181</td>\n",
       "    </tr>\n",
       "    <tr>\n",
       "      <th>42</th>\n",
       "      <td>0.934862</td>\n",
       "      <td>0.275087</td>\n",
       "      <td>0.949048</td>\n",
       "      <td>0.321286</td>\n",
       "    </tr>\n",
       "    <tr>\n",
       "      <th>43</th>\n",
       "      <td>0.936717</td>\n",
       "      <td>0.268190</td>\n",
       "      <td>0.949048</td>\n",
       "      <td>0.337437</td>\n",
       "    </tr>\n",
       "    <tr>\n",
       "      <th>44</th>\n",
       "      <td>0.937669</td>\n",
       "      <td>0.274073</td>\n",
       "      <td>0.946667</td>\n",
       "      <td>0.319472</td>\n",
       "    </tr>\n",
       "    <tr>\n",
       "      <th>45</th>\n",
       "      <td>0.936466</td>\n",
       "      <td>0.281709</td>\n",
       "      <td>0.949048</td>\n",
       "      <td>0.320744</td>\n",
       "    </tr>\n",
       "    <tr>\n",
       "      <th>46</th>\n",
       "      <td>0.936341</td>\n",
       "      <td>0.283310</td>\n",
       "      <td>0.948095</td>\n",
       "      <td>0.335988</td>\n",
       "    </tr>\n",
       "    <tr>\n",
       "      <th>47</th>\n",
       "      <td>0.935363</td>\n",
       "      <td>0.282536</td>\n",
       "      <td>0.945238</td>\n",
       "      <td>0.270795</td>\n",
       "    </tr>\n",
       "    <tr>\n",
       "      <th>48</th>\n",
       "      <td>0.935138</td>\n",
       "      <td>0.281871</td>\n",
       "      <td>0.943810</td>\n",
       "      <td>0.326857</td>\n",
       "    </tr>\n",
       "    <tr>\n",
       "      <th>49</th>\n",
       "      <td>0.936942</td>\n",
       "      <td>0.280440</td>\n",
       "      <td>0.944286</td>\n",
       "      <td>0.318893</td>\n",
       "    </tr>\n",
       "  </tbody>\n",
       "</table>\n",
       "</div>"
      ],
      "text/plain": [
       "         acc      loss   val_acc  val_loss\n",
       "0   0.818697  0.583680  0.924286  0.269561\n",
       "1   0.894561  0.366105  0.922381  0.254002\n",
       "2   0.908571  0.322356  0.936667  0.237590\n",
       "3   0.914812  0.305943  0.941429  0.226732\n",
       "4   0.919549  0.291637  0.943810  0.221289\n",
       "5   0.921955  0.290364  0.949524  0.209410\n",
       "6   0.924712  0.279431  0.944286  0.218577\n",
       "7   0.925990  0.277077  0.943810  0.209247\n",
       "8   0.926992  0.273271  0.945238  0.224771\n",
       "9   0.928145  0.270892  0.942857  0.237495\n",
       "10  0.927945  0.267456  0.945714  0.204094\n",
       "11  0.928195  0.268774  0.950476  0.209847\n",
       "12  0.931629  0.260162  0.947619  0.248645\n",
       "13  0.931654  0.261694  0.949048  0.214905\n",
       "14  0.932707  0.260327  0.952857  0.211299\n",
       "15  0.932155  0.265694  0.948095  0.232673\n",
       "16  0.933258  0.256020  0.951905  0.227794\n",
       "17  0.933133  0.261166  0.946190  0.237343\n",
       "18  0.932632  0.268239  0.950000  0.235244\n",
       "19  0.933484  0.260108  0.948571  0.234505\n",
       "20  0.932732  0.262881  0.952381  0.250134\n",
       "21  0.935238  0.258114  0.952381  0.257208\n",
       "22  0.935038  0.261429  0.953810  0.257678\n",
       "23  0.935990  0.261622  0.950476  0.273052\n",
       "24  0.935363  0.256167  0.950952  0.249365\n",
       "25  0.936115  0.256677  0.946190  0.262691\n",
       "26  0.934060  0.265542  0.942381  0.265902\n",
       "27  0.936065  0.261113  0.946667  0.256366\n",
       "28  0.935789  0.260623  0.944286  0.274193\n",
       "29  0.934261  0.263667  0.940000  0.257830\n",
       "30  0.935539  0.263361  0.951429  0.293901\n",
       "31  0.935865  0.260349  0.948571  0.278868\n",
       "32  0.934812  0.273370  0.947619  0.282736\n",
       "33  0.935915  0.272339  0.950952  0.278940\n",
       "34  0.935363  0.273076  0.946190  0.257049\n",
       "35  0.933759  0.269263  0.951905  0.253006\n",
       "36  0.937769  0.261968  0.946190  0.310344\n",
       "37  0.936566  0.266982  0.946667  0.288816\n",
       "38  0.936867  0.265589  0.950952  0.292335\n",
       "39  0.937419  0.265964  0.949048  0.277794\n",
       "40  0.936416  0.274488  0.950476  0.290489\n",
       "41  0.937895  0.272889  0.945238  0.291181\n",
       "42  0.934862  0.275087  0.949048  0.321286\n",
       "43  0.936717  0.268190  0.949048  0.337437\n",
       "44  0.937669  0.274073  0.946667  0.319472\n",
       "45  0.936466  0.281709  0.949048  0.320744\n",
       "46  0.936341  0.283310  0.948095  0.335988\n",
       "47  0.935363  0.282536  0.945238  0.270795\n",
       "48  0.935138  0.281871  0.943810  0.326857\n",
       "49  0.936942  0.280440  0.944286  0.318893"
      ]
     },
     "execution_count": 91,
     "metadata": {},
     "output_type": "execute_result"
    }
   ],
   "source": [
    "cache_df=pd.DataFrame(cache.history)\n",
    "cache_df"
   ]
  },
  {
   "cell_type": "code",
   "execution_count": 92,
   "metadata": {},
   "outputs": [
    {
     "data": {
      "image/png": "[encoded data removed]",
      "text/plain": [
       "<matplotlib.figure.Figure at 0x4e7d9908>"
      ]
     },
     "metadata": {},
     "output_type": "display_data"
    }
   ],
   "source": [
    "epochs=range(1,cache_df.shape[0]+1)\n",
    "\n",
    "plt.plot(epochs,cache_df['loss'],'r+',label='loss')\n",
    "plt.plot(epochs,cache_df['val_loss'],'b+',label='val_loss')\n",
    "plt.xlabel('Epochs')\n",
    "plt.ylabel('Loss')\n",
    "plt.legend()\n",
    "plt.show()"
   ]
  },
  {
   "cell_type": "code",
   "execution_count": 93,
   "metadata": {},
   "outputs": [
    {
     "data": {
      "image/png": "[encoded data removed]",
      "text/plain": [
       "<matplotlib.figure.Figure at 0x4e893978>"
      ]
     },
     "metadata": {},
     "output_type": "display_data"
    }
   ],
   "source": [
    "plt.plot(epochs,cache_df['acc'],'r+',label='acc')\n",
    "plt.plot(epochs,cache_df['val_acc'],'b+',label='val_acc')\n",
    "plt.xlabel('Epochs')\n",
    "plt.ylabel('Accuracy')\n",
    "plt.legend()\n",
    "plt.show()"
   ]
  },
  {
   "cell_type": "code",
   "execution_count": null,
   "metadata": {
    "collapsed": true
   },
   "outputs": [],
   "source": []
  },
  {
   "cell_type": "code",
   "execution_count": 94,
   "metadata": {
    "collapsed": true
   },
   "outputs": [],
   "source": [
    "preds=model.predict_classes(x_test,verbose=0)"
   ]
  },
  {
   "cell_type": "code",
   "execution_count": 95,
   "metadata": {},
   "outputs": [
    {
     "data": {
      "text/plain": [
       "array([2, 0, 9, 9, 3], dtype=int64)"
      ]
     },
     "execution_count": 95,
     "metadata": {},
     "output_type": "execute_result"
    }
   ],
   "source": [
    "preds[0:5]"
   ]
  },
  {
   "cell_type": "code",
   "execution_count": 86,
   "metadata": {
    "_cell_guid": "c11703bf-bf9d-45a7-a09d-c964a5d782b8",
    "_uuid": "ebd323c9a5b440543929b73e74e792028695dda0",
    "collapsed": true
   },
   "outputs": [],
   "source": [
    "subs=pd.DataFrame({\"ImageId\":list(range(1,len(preds)+1)),\"Label\":preds})\n",
    "subs.to_csv(\"sub3_3.csv\",index=False,header=True)"
   ]
  },
  {
   "cell_type": "markdown",
   "metadata": {},
   "source": [
    "alpha=0.0001\n",
    "3_1 - epoch=20\n",
    "\n",
    "3_2_1 - pre train+25\n",
    "3_2_2 - retrain 25\n",
    "3_2_3 - retrain 100\n",
    "\n",
    "alpha=0.005 \n",
    "3_3 epoch=50\n",
    "\n",
    "alpha=0.01\n",
    "3_4 epoch=25"
   ]
  },
  {
   "cell_type": "markdown",
   "metadata": {},
   "source": [
    "# Best Leaderboard score - 0.95371 for sub3_3"
   ]
  }
 ],
 "metadata": {
  "kernelspec": {
   "display_name": "Python 3",
   "language": "python",
   "name": "python3"
  },
  "language_info": {
   "codemirror_mode": {
    "name": "ipython",
    "version": 3
   },
   "file_extension": ".py",
   "mimetype": "text/x-python",
   "name": "python",
   "nbconvert_exporter": "python",
   "pygments_lexer": "ipython3",
   "version": "3.6.1"
  }
 },
 "nbformat": 4,
 "nbformat_minor": 1
}
