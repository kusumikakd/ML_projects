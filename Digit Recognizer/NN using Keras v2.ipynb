{
 "cells": [
  {
   "cell_type": "code",
   "execution_count": 1,
   "metadata": {
    "_cell_guid": "de7a97e1-76dc-4ed7-b5e3-d09220031514",
    "_uuid": "53cf4606db5f47e06009866961a82ac2ee8fee1c"
   },
   "outputs": [
    {
     "name": "stderr",
     "output_type": "stream",
     "text": [
      "Using TensorFlow backend.\n"
     ]
    }
   ],
   "source": [
    "# This Python 3 environment comes with many helpful analytics libraries installed\n",
    "# It is defined by the kaggle/python docker image: https://github.com/kaggle/docker-python\n",
    "# For example, here's several helpful packages to load in \n",
    "\n",
    "import numpy as np # linear algebra\n",
    "import pandas as pd # data processing, CSV file I/O (e.g. pd.read_csv)\n",
    "import matplotlib.pyplot as plt\n",
    "%matplotlib inline\n",
    "\n",
    "from keras.models import Sequential\n",
    "from keras.layers import Dense,Dropout, Activation,Lambda,Flatten\n",
    "from keras.optimizers import Adam , RMSprop\n",
    "from sklearn.model_selection import train_test_split\n"
   ]
  },
  {
   "cell_type": "code",
   "execution_count": 2,
   "metadata": {
    "_cell_guid": "e25ba469-eb42-46e9-a410-a9b6609ab737",
    "_uuid": "60adba5bc07fba217076c9944d3b5f4f255988ee"
   },
   "outputs": [
    {
     "name": "stdout",
     "output_type": "stream",
     "text": [
      "(42000, 785)\n"
     ]
    },
    {
     "data": {
      "text/html": [
       "<div>\n",
       "<style>\n",
       "    .dataframe thead tr:only-child th {\n",
       "        text-align: right;\n",
       "    }\n",
       "\n",
       "    .dataframe thead th {\n",
       "        text-align: left;\n",
       "    }\n",
       "\n",
       "    .dataframe tbody tr th {\n",
       "        vertical-align: top;\n",
       "    }\n",
       "</style>\n",
       "<table border=\"1\" class=\"dataframe\">\n",
       "  <thead>\n",
       "    <tr style=\"text-align: right;\">\n",
       "      <th></th>\n",
       "      <th>label</th>\n",
       "      <th>pixel0</th>\n",
       "      <th>pixel1</th>\n",
       "      <th>pixel2</th>\n",
       "      <th>pixel3</th>\n",
       "      <th>pixel4</th>\n",
       "      <th>pixel5</th>\n",
       "      <th>pixel6</th>\n",
       "      <th>pixel7</th>\n",
       "      <th>pixel8</th>\n",
       "      <th>...</th>\n",
       "      <th>pixel774</th>\n",
       "      <th>pixel775</th>\n",
       "      <th>pixel776</th>\n",
       "      <th>pixel777</th>\n",
       "      <th>pixel778</th>\n",
       "      <th>pixel779</th>\n",
       "      <th>pixel780</th>\n",
       "      <th>pixel781</th>\n",
       "      <th>pixel782</th>\n",
       "      <th>pixel783</th>\n",
       "    </tr>\n",
       "  </thead>\n",
       "  <tbody>\n",
       "    <tr>\n",
       "      <th>0</th>\n",
       "      <td>1</td>\n",
       "      <td>0</td>\n",
       "      <td>0</td>\n",
       "      <td>0</td>\n",
       "      <td>0</td>\n",
       "      <td>0</td>\n",
       "      <td>0</td>\n",
       "      <td>0</td>\n",
       "      <td>0</td>\n",
       "      <td>0</td>\n",
       "      <td>...</td>\n",
       "      <td>0</td>\n",
       "      <td>0</td>\n",
       "      <td>0</td>\n",
       "      <td>0</td>\n",
       "      <td>0</td>\n",
       "      <td>0</td>\n",
       "      <td>0</td>\n",
       "      <td>0</td>\n",
       "      <td>0</td>\n",
       "      <td>0</td>\n",
       "    </tr>\n",
       "    <tr>\n",
       "      <th>1</th>\n",
       "      <td>0</td>\n",
       "      <td>0</td>\n",
       "      <td>0</td>\n",
       "      <td>0</td>\n",
       "      <td>0</td>\n",
       "      <td>0</td>\n",
       "      <td>0</td>\n",
       "      <td>0</td>\n",
       "      <td>0</td>\n",
       "      <td>0</td>\n",
       "      <td>...</td>\n",
       "      <td>0</td>\n",
       "      <td>0</td>\n",
       "      <td>0</td>\n",
       "      <td>0</td>\n",
       "      <td>0</td>\n",
       "      <td>0</td>\n",
       "      <td>0</td>\n",
       "      <td>0</td>\n",
       "      <td>0</td>\n",
       "      <td>0</td>\n",
       "    </tr>\n",
       "    <tr>\n",
       "      <th>2</th>\n",
       "      <td>1</td>\n",
       "      <td>0</td>\n",
       "      <td>0</td>\n",
       "      <td>0</td>\n",
       "      <td>0</td>\n",
       "      <td>0</td>\n",
       "      <td>0</td>\n",
       "      <td>0</td>\n",
       "      <td>0</td>\n",
       "      <td>0</td>\n",
       "      <td>...</td>\n",
       "      <td>0</td>\n",
       "      <td>0</td>\n",
       "      <td>0</td>\n",
       "      <td>0</td>\n",
       "      <td>0</td>\n",
       "      <td>0</td>\n",
       "      <td>0</td>\n",
       "      <td>0</td>\n",
       "      <td>0</td>\n",
       "      <td>0</td>\n",
       "    </tr>\n",
       "    <tr>\n",
       "      <th>3</th>\n",
       "      <td>4</td>\n",
       "      <td>0</td>\n",
       "      <td>0</td>\n",
       "      <td>0</td>\n",
       "      <td>0</td>\n",
       "      <td>0</td>\n",
       "      <td>0</td>\n",
       "      <td>0</td>\n",
       "      <td>0</td>\n",
       "      <td>0</td>\n",
       "      <td>...</td>\n",
       "      <td>0</td>\n",
       "      <td>0</td>\n",
       "      <td>0</td>\n",
       "      <td>0</td>\n",
       "      <td>0</td>\n",
       "      <td>0</td>\n",
       "      <td>0</td>\n",
       "      <td>0</td>\n",
       "      <td>0</td>\n",
       "      <td>0</td>\n",
       "    </tr>\n",
       "    <tr>\n",
       "      <th>4</th>\n",
       "      <td>0</td>\n",
       "      <td>0</td>\n",
       "      <td>0</td>\n",
       "      <td>0</td>\n",
       "      <td>0</td>\n",
       "      <td>0</td>\n",
       "      <td>0</td>\n",
       "      <td>0</td>\n",
       "      <td>0</td>\n",
       "      <td>0</td>\n",
       "      <td>...</td>\n",
       "      <td>0</td>\n",
       "      <td>0</td>\n",
       "      <td>0</td>\n",
       "      <td>0</td>\n",
       "      <td>0</td>\n",
       "      <td>0</td>\n",
       "      <td>0</td>\n",
       "      <td>0</td>\n",
       "      <td>0</td>\n",
       "      <td>0</td>\n",
       "    </tr>\n",
       "  </tbody>\n",
       "</table>\n",
       "<p>5 rows × 785 columns</p>\n",
       "</div>"
      ],
      "text/plain": [
       "   label  pixel0  pixel1  pixel2  pixel3  pixel4  pixel5  pixel6  pixel7  \\\n",
       "0      1       0       0       0       0       0       0       0       0   \n",
       "1      0       0       0       0       0       0       0       0       0   \n",
       "2      1       0       0       0       0       0       0       0       0   \n",
       "3      4       0       0       0       0       0       0       0       0   \n",
       "4      0       0       0       0       0       0       0       0       0   \n",
       "\n",
       "   pixel8    ...     pixel774  pixel775  pixel776  pixel777  pixel778  \\\n",
       "0       0    ...            0         0         0         0         0   \n",
       "1       0    ...            0         0         0         0         0   \n",
       "2       0    ...            0         0         0         0         0   \n",
       "3       0    ...            0         0         0         0         0   \n",
       "4       0    ...            0         0         0         0         0   \n",
       "\n",
       "   pixel779  pixel780  pixel781  pixel782  pixel783  \n",
       "0         0         0         0         0         0  \n",
       "1         0         0         0         0         0  \n",
       "2         0         0         0         0         0  \n",
       "3         0         0         0         0         0  \n",
       "4         0         0         0         0         0  \n",
       "\n",
       "[5 rows x 785 columns]"
      ]
     },
     "execution_count": 2,
     "metadata": {},
     "output_type": "execute_result"
    }
   ],
   "source": [
    "train=pd.read_csv(\"train.csv\")\n",
    "print(train.shape)\n",
    "train.head()"
   ]
  },
  {
   "cell_type": "code",
   "execution_count": 3,
   "metadata": {
    "_cell_guid": "2cbadf6a-7efd-4a0c-b60e-1f6de9397681",
    "_uuid": "23532a2bdaa5324fe7ee55559994f5ac56876260"
   },
   "outputs": [
    {
     "name": "stdout",
     "output_type": "stream",
     "text": [
      "(28000, 784)\n"
     ]
    },
    {
     "data": {
      "text/html": [
       "<div>\n",
       "<style>\n",
       "    .dataframe thead tr:only-child th {\n",
       "        text-align: right;\n",
       "    }\n",
       "\n",
       "    .dataframe thead th {\n",
       "        text-align: left;\n",
       "    }\n",
       "\n",
       "    .dataframe tbody tr th {\n",
       "        vertical-align: top;\n",
       "    }\n",
       "</style>\n",
       "<table border=\"1\" class=\"dataframe\">\n",
       "  <thead>\n",
       "    <tr style=\"text-align: right;\">\n",
       "      <th></th>\n",
       "      <th>pixel0</th>\n",
       "      <th>pixel1</th>\n",
       "      <th>pixel2</th>\n",
       "      <th>pixel3</th>\n",
       "      <th>pixel4</th>\n",
       "      <th>pixel5</th>\n",
       "      <th>pixel6</th>\n",
       "      <th>pixel7</th>\n",
       "      <th>pixel8</th>\n",
       "      <th>pixel9</th>\n",
       "      <th>...</th>\n",
       "      <th>pixel774</th>\n",
       "      <th>pixel775</th>\n",
       "      <th>pixel776</th>\n",
       "      <th>pixel777</th>\n",
       "      <th>pixel778</th>\n",
       "      <th>pixel779</th>\n",
       "      <th>pixel780</th>\n",
       "      <th>pixel781</th>\n",
       "      <th>pixel782</th>\n",
       "      <th>pixel783</th>\n",
       "    </tr>\n",
       "  </thead>\n",
       "  <tbody>\n",
       "    <tr>\n",
       "      <th>0</th>\n",
       "      <td>0</td>\n",
       "      <td>0</td>\n",
       "      <td>0</td>\n",
       "      <td>0</td>\n",
       "      <td>0</td>\n",
       "      <td>0</td>\n",
       "      <td>0</td>\n",
       "      <td>0</td>\n",
       "      <td>0</td>\n",
       "      <td>0</td>\n",
       "      <td>...</td>\n",
       "      <td>0</td>\n",
       "      <td>0</td>\n",
       "      <td>0</td>\n",
       "      <td>0</td>\n",
       "      <td>0</td>\n",
       "      <td>0</td>\n",
       "      <td>0</td>\n",
       "      <td>0</td>\n",
       "      <td>0</td>\n",
       "      <td>0</td>\n",
       "    </tr>\n",
       "    <tr>\n",
       "      <th>1</th>\n",
       "      <td>0</td>\n",
       "      <td>0</td>\n",
       "      <td>0</td>\n",
       "      <td>0</td>\n",
       "      <td>0</td>\n",
       "      <td>0</td>\n",
       "      <td>0</td>\n",
       "      <td>0</td>\n",
       "      <td>0</td>\n",
       "      <td>0</td>\n",
       "      <td>...</td>\n",
       "      <td>0</td>\n",
       "      <td>0</td>\n",
       "      <td>0</td>\n",
       "      <td>0</td>\n",
       "      <td>0</td>\n",
       "      <td>0</td>\n",
       "      <td>0</td>\n",
       "      <td>0</td>\n",
       "      <td>0</td>\n",
       "      <td>0</td>\n",
       "    </tr>\n",
       "    <tr>\n",
       "      <th>2</th>\n",
       "      <td>0</td>\n",
       "      <td>0</td>\n",
       "      <td>0</td>\n",
       "      <td>0</td>\n",
       "      <td>0</td>\n",
       "      <td>0</td>\n",
       "      <td>0</td>\n",
       "      <td>0</td>\n",
       "      <td>0</td>\n",
       "      <td>0</td>\n",
       "      <td>...</td>\n",
       "      <td>0</td>\n",
       "      <td>0</td>\n",
       "      <td>0</td>\n",
       "      <td>0</td>\n",
       "      <td>0</td>\n",
       "      <td>0</td>\n",
       "      <td>0</td>\n",
       "      <td>0</td>\n",
       "      <td>0</td>\n",
       "      <td>0</td>\n",
       "    </tr>\n",
       "    <tr>\n",
       "      <th>3</th>\n",
       "      <td>0</td>\n",
       "      <td>0</td>\n",
       "      <td>0</td>\n",
       "      <td>0</td>\n",
       "      <td>0</td>\n",
       "      <td>0</td>\n",
       "      <td>0</td>\n",
       "      <td>0</td>\n",
       "      <td>0</td>\n",
       "      <td>0</td>\n",
       "      <td>...</td>\n",
       "      <td>0</td>\n",
       "      <td>0</td>\n",
       "      <td>0</td>\n",
       "      <td>0</td>\n",
       "      <td>0</td>\n",
       "      <td>0</td>\n",
       "      <td>0</td>\n",
       "      <td>0</td>\n",
       "      <td>0</td>\n",
       "      <td>0</td>\n",
       "    </tr>\n",
       "    <tr>\n",
       "      <th>4</th>\n",
       "      <td>0</td>\n",
       "      <td>0</td>\n",
       "      <td>0</td>\n",
       "      <td>0</td>\n",
       "      <td>0</td>\n",
       "      <td>0</td>\n",
       "      <td>0</td>\n",
       "      <td>0</td>\n",
       "      <td>0</td>\n",
       "      <td>0</td>\n",
       "      <td>...</td>\n",
       "      <td>0</td>\n",
       "      <td>0</td>\n",
       "      <td>0</td>\n",
       "      <td>0</td>\n",
       "      <td>0</td>\n",
       "      <td>0</td>\n",
       "      <td>0</td>\n",
       "      <td>0</td>\n",
       "      <td>0</td>\n",
       "      <td>0</td>\n",
       "    </tr>\n",
       "  </tbody>\n",
       "</table>\n",
       "<p>5 rows × 784 columns</p>\n",
       "</div>"
      ],
      "text/plain": [
       "   pixel0  pixel1  pixel2  pixel3  pixel4  pixel5  pixel6  pixel7  pixel8  \\\n",
       "0       0       0       0       0       0       0       0       0       0   \n",
       "1       0       0       0       0       0       0       0       0       0   \n",
       "2       0       0       0       0       0       0       0       0       0   \n",
       "3       0       0       0       0       0       0       0       0       0   \n",
       "4       0       0       0       0       0       0       0       0       0   \n",
       "\n",
       "   pixel9    ...     pixel774  pixel775  pixel776  pixel777  pixel778  \\\n",
       "0       0    ...            0         0         0         0         0   \n",
       "1       0    ...            0         0         0         0         0   \n",
       "2       0    ...            0         0         0         0         0   \n",
       "3       0    ...            0         0         0         0         0   \n",
       "4       0    ...            0         0         0         0         0   \n",
       "\n",
       "   pixel779  pixel780  pixel781  pixel782  pixel783  \n",
       "0         0         0         0         0         0  \n",
       "1         0         0         0         0         0  \n",
       "2         0         0         0         0         0  \n",
       "3         0         0         0         0         0  \n",
       "4         0         0         0         0         0  \n",
       "\n",
       "[5 rows x 784 columns]"
      ]
     },
     "execution_count": 3,
     "metadata": {},
     "output_type": "execute_result"
    }
   ],
   "source": [
    "test=pd.read_csv(\"test.csv\")\n",
    "print(test.shape)\n",
    "test.head()"
   ]
  },
  {
   "cell_type": "code",
   "execution_count": 4,
   "metadata": {
    "_cell_guid": "40ac430c-ab43-4299-88fa-6ca6846ccdec",
    "_uuid": "9a62c319dbce50003c1df9d7e4f65f3c176c48e2"
   },
   "outputs": [
    {
     "name": "stderr",
     "output_type": "stream",
     "text": [
      "C:\\Users\\Sahil\\Anaconda3\\lib\\site-packages\\ipykernel_launcher.py:1: DeprecationWarning: \n",
      ".ix is deprecated. Please use\n",
      ".loc for label based indexing or\n",
      ".iloc for positional indexing\n",
      "\n",
      "See the documentation here:\n",
      "http://pandas.pydata.org/pandas-docs/stable/indexing.html#deprecate_ix\n",
      "  \"\"\"Entry point for launching an IPython kernel.\n"
     ]
    }
   ],
   "source": [
    "x_train=(train.ix[:,1:].values).astype('float32')\n",
    "y_train=train.ix[:,0].values.astype('int32')\n",
    "\n",
    "x_test=test.values.astype('float32')"
   ]
  },
  {
   "cell_type": "code",
   "execution_count": 5,
   "metadata": {
    "_cell_guid": "182e7c03-e1a5-4aac-9aa2-3a5c42998726",
    "_uuid": "71af60fd913c01c1b91872ae3aa6b88e7c87ae65"
   },
   "outputs": [
    {
     "data": {
      "text/plain": [
       "(42000, 784)"
      ]
     },
     "execution_count": 5,
     "metadata": {},
     "output_type": "execute_result"
    }
   ],
   "source": [
    "x_train.shape"
   ]
  },
  {
   "cell_type": "code",
   "execution_count": 6,
   "metadata": {
    "_cell_guid": "fef6af1d-6cb3-4f8a-85c3-b69bc77e3f27",
    "_uuid": "879b4688d6bb4df64be0e43750bff1e74ca63497"
   },
   "outputs": [
    {
     "data": {
      "text/plain": [
       "(42000,)"
      ]
     },
     "execution_count": 6,
     "metadata": {},
     "output_type": "execute_result"
    }
   ],
   "source": [
    "y_train.shape"
   ]
  },
  {
   "cell_type": "markdown",
   "metadata": {
    "_cell_guid": "f83ccbc0-655b-4823-81c1-3100b6518c2c",
    "_uuid": "bf9cd81241ad099804d824d0155a52b2c4ea1836"
   },
   "source": [
    "**Previewing image**"
   ]
  },
  {
   "cell_type": "code",
   "execution_count": 7,
   "metadata": {
    "_cell_guid": "460d3966-4aa9-4519-a9b1-2cd835bfdf26",
    "_uuid": "42c11326e0997026214a878d508cdc4fec01f09f",
    "collapsed": true
   },
   "outputs": [],
   "source": [
    "x_train=x_train.reshape(x_train.shape[0],28,28)"
   ]
  },
  {
   "cell_type": "code",
   "execution_count": 8,
   "metadata": {
    "_cell_guid": "dc390eb0-717f-4d7e-8f85-c0e3c76aa067",
    "_uuid": "54042aac6fd3f1f709567a2abdaa9bf285a2c805"
   },
   "outputs": [
    {
     "data": {
      "text/plain": [
       "(42000, 28, 28)"
      ]
     },
     "execution_count": 8,
     "metadata": {},
     "output_type": "execute_result"
    }
   ],
   "source": [
    "x_train.shape"
   ]
  },
  {
   "cell_type": "code",
   "execution_count": 9,
   "metadata": {
    "_cell_guid": "a1309738-89a7-40e9-8c6e-00ac960c638d",
    "_uuid": "1010a46d8c42f16120e60edf4eff1aad524e9bcc"
   },
   "outputs": [
    {
     "name": "stdout",
     "output_type": "stream",
     "text": [
      "Number is 7\n"
     ]
    },
    {
     "data": {
      "image/png": "[encoded data removed]",
      "text/plain": [
       "<matplotlib.figure.Figure at 0x9795860>"
      ]
     },
     "metadata": {},
     "output_type": "display_data"
    }
   ],
   "source": [
    "#change index to view other images\n",
    "index=678\n",
    "plt.imshow(x_train[index])\n",
    "print('Number is',y_train[index])"
   ]
  },
  {
   "cell_type": "code",
   "execution_count": 10,
   "metadata": {
    "_cell_guid": "1dd7630c-1495-4794-a5bc-7f082ca6da82",
    "_uuid": "53b7327172ea4ee69c99bc468f7bf4c2a4099697",
    "collapsed": true
   },
   "outputs": [],
   "source": [
    "x_train=x_train.reshape(x_train.shape[0],28*28)"
   ]
  },
  {
   "cell_type": "code",
   "execution_count": 11,
   "metadata": {
    "_cell_guid": "bace16f6-7e0f-4594-9b86-c42344f47c6d",
    "_uuid": "40999d4aa6b9976e85426fb20e1f5c5bfa956f93"
   },
   "outputs": [
    {
     "data": {
      "text/plain": [
       "((42000, 784), (28000, 784))"
      ]
     },
     "execution_count": 11,
     "metadata": {},
     "output_type": "execute_result"
    }
   ],
   "source": [
    "x_train.shape,x_test.shape"
   ]
  },
  {
   "cell_type": "markdown",
   "metadata": {
    "_cell_guid": "933e781a-8240-402a-a707-aa6bfc5ca99e",
    "_uuid": "967c9e78c8d1131bffb8d9d0ce8167da6bafa366"
   },
   "source": [
    "**Preprocessing**"
   ]
  },
  {
   "cell_type": "code",
   "execution_count": 12,
   "metadata": {
    "collapsed": true
   },
   "outputs": [],
   "source": [
    "x_train/=255\n",
    "x_test/=255"
   ]
  },
  {
   "cell_type": "code",
   "execution_count": 13,
   "metadata": {
    "_cell_guid": "acbe41ec-2cb5-467b-86c4-f4ec745925e6",
    "_uuid": "7c2accd18e1c2bbd45ec28fda3fbd6189d81d305",
    "collapsed": true
   },
   "outputs": [],
   "source": [
    "#One Hot Encoding \n",
    "#I guess everybody knows this otherwise google\n",
    "\n",
    "from keras.utils.np_utils import to_categorical\n",
    "y_train=to_categorical(y_train,num_classes=10)"
   ]
  },
  {
   "cell_type": "code",
   "execution_count": 14,
   "metadata": {
    "_cell_guid": "395677a4-d6ed-4d66-a1be-538dd7a6204c",
    "_uuid": "53bdd701bc545395ca6ae436da7cff32be79a3b9"
   },
   "outputs": [
    {
     "data": {
      "text/plain": [
       "(42000, 10)"
      ]
     },
     "execution_count": 14,
     "metadata": {},
     "output_type": "execute_result"
    }
   ],
   "source": [
    "y_train.shape"
   ]
  },
  {
   "cell_type": "code",
   "execution_count": 15,
   "metadata": {
    "_cell_guid": "2a3d29bd-a30d-4b2e-8aed-e920ccb4c667",
    "_uuid": "9a4b7ee889f71198b4712e50d50a02cabcf6840d"
   },
   "outputs": [
    {
     "name": "stdout",
     "output_type": "stream",
     "text": [
      "[ 0.  0.  0.  0.  0.  0.  0.  1.  0.  0.]\n"
     ]
    },
    {
     "data": {
      "image/png": "[encoded data removed]",
      "text/plain": [
       "<matplotlib.figure.Figure at 0x664f080>"
      ]
     },
     "metadata": {},
     "output_type": "display_data"
    }
   ],
   "source": [
    "#same as above to verify as if it correct\n",
    "print(y_train[index])\n",
    "plt.plot(y_train[index])\n",
    "plt.xticks(range(10))\n",
    "plt.show()"
   ]
  },
  {
   "cell_type": "markdown",
   "metadata": {
    "_cell_guid": "e293fefd-7428-40bd-abe3-c43f97a2a765",
    "_uuid": "fb1da1c79705cda5c25d67a1aca6c31f0c1411d8"
   },
   "source": [
    "**NN**"
   ]
  },
  {
   "cell_type": "code",
   "execution_count": 17,
   "metadata": {
    "_cell_guid": "993f6460-6320-4749-8643-70653aa3fd6a",
    "_uuid": "ae50163bad9121f87a90ab53e3e6696e6f739201",
    "collapsed": true
   },
   "outputs": [],
   "source": [
    "np.random.seed(34)"
   ]
  },
  {
   "cell_type": "markdown",
   "metadata": {},
   "source": [
    "# Model 1"
   ]
  },
  {
   "cell_type": "code",
   "execution_count": 43,
   "metadata": {
    "_cell_guid": "4bd197ac-2eb9-418e-8a8d-b4368558fda1",
    "_uuid": "d3bdeda6d03b46dc31605c32f2c8c9cc29317f9a"
   },
   "outputs": [],
   "source": [
    "model=Sequential()\n",
    "model.add(Dense(32,activation=\"relu\",input_dim=784))\n",
    "model.add(Dense(16,activation=\"relu\"))\n",
    "model.add(Dense(10,activation='softmax'))\n"
   ]
  },
  {
   "cell_type": "code",
   "execution_count": 44,
   "metadata": {
    "_cell_guid": "ec54a10a-a7c9-4935-9943-ab07588c7fbe",
    "_uuid": "b022fd82d955bd2be9556972b2e1710960d068c2"
   },
   "outputs": [
    {
     "name": "stdout",
     "output_type": "stream",
     "text": [
      "_________________________________________________________________\n",
      "Layer (type)                 Output Shape              Param #   \n",
      "=================================================================\n",
      "dense_4 (Dense)              (None, 32)                25120     \n",
      "_________________________________________________________________\n",
      "dense_5 (Dense)              (None, 16)                528       \n",
      "_________________________________________________________________\n",
      "dense_6 (Dense)              (None, 10)                170       \n",
      "=================================================================\n",
      "Total params: 25,818\n",
      "Trainable params: 25,818\n",
      "Non-trainable params: 0\n",
      "_________________________________________________________________\n"
     ]
    }
   ],
   "source": [
    "#most useful function for a newbie **sobs**\n",
    "model.summary()"
   ]
  },
  {
   "cell_type": "code",
   "execution_count": 45,
   "metadata": {
    "_cell_guid": "ab8a0b92-d466-4b96-8007-11949e00d192",
    "_uuid": "0e5a5e426550650db6d9d114a598661e9a358d9a",
    "collapsed": true
   },
   "outputs": [],
   "source": [
    "model.compile(optimizer=RMSprop(lr=0.001),\n",
    "             loss='categorical_crossentropy',\n",
    "             metrics=['accuracy'])"
   ]
  },
  {
   "cell_type": "code",
   "execution_count": 46,
   "metadata": {
    "_cell_guid": "356c13fe-ffea-4282-b3f0-8595556ea42d",
    "_uuid": "14bb5600a7e4657211a953c8c347cd552c3a8981"
   },
   "outputs": [
    {
     "name": "stdout",
     "output_type": "stream",
     "text": [
      "Train on 39900 samples, validate on 2100 samples\n",
      "Epoch 1/25\n",
      "39900/39900 [==============================] - 6s 141us/step - loss: 0.5333 - acc: 0.8506 - val_loss: 0.3040 - val_acc: 0.9138\n",
      "Epoch 2/25\n",
      "39900/39900 [==============================] - 5s 121us/step - loss: 0.2478 - acc: 0.9291 - val_loss: 0.2639 - val_acc: 0.9238\n",
      "Epoch 3/25\n",
      "39900/39900 [==============================] - 5s 122us/step - loss: 0.2069 - acc: 0.9402 - val_loss: 0.2337 - val_acc: 0.9357\n",
      "Epoch 4/25\n",
      "39900/39900 [==============================] - 5s 117us/step - loss: 0.1791 - acc: 0.9482 - val_loss: 0.2168 - val_acc: 0.9386\n",
      "Epoch 5/25\n",
      "39900/39900 [==============================] - 4s 112us/step - loss: 0.1578 - acc: 0.9539 - val_loss: 0.1927 - val_acc: 0.9467\n",
      "Epoch 6/25\n",
      "39900/39900 [==============================] - 4s 111us/step - loss: 0.1413 - acc: 0.9579 - val_loss: 0.1996 - val_acc: 0.9457\n",
      "Epoch 7/25\n",
      "39900/39900 [==============================] - 5s 116us/step - loss: 0.1294 - acc: 0.9615 - val_loss: 0.1834 - val_acc: 0.9495\n",
      "Epoch 8/25\n",
      "39900/39900 [==============================] - 5s 113us/step - loss: 0.1210 - acc: 0.9637 - val_loss: 0.1638 - val_acc: 0.9538\n",
      "Epoch 9/25\n",
      "39900/39900 [==============================] - 5s 114us/step - loss: 0.1113 - acc: 0.9677 - val_loss: 0.1607 - val_acc: 0.9590\n",
      "Epoch 10/25\n",
      "39900/39900 [==============================] - 5s 115us/step - loss: 0.1051 - acc: 0.9690 - val_loss: 0.1653 - val_acc: 0.9571\n",
      "Epoch 11/25\n",
      "39900/39900 [==============================] - 5s 119us/step - loss: 0.0994 - acc: 0.9703 - val_loss: 0.1608 - val_acc: 0.9581\n",
      "Epoch 12/25\n",
      "39900/39900 [==============================] - 5s 117us/step - loss: 0.0946 - acc: 0.9718 - val_loss: 0.1673 - val_acc: 0.9533\n",
      "Epoch 13/25\n",
      "39900/39900 [==============================] - 5s 117us/step - loss: 0.0918 - acc: 0.9741 - val_loss: 0.1555 - val_acc: 0.9581\n",
      "Epoch 14/25\n",
      "39900/39900 [==============================] - 5s 117us/step - loss: 0.0862 - acc: 0.9744 - val_loss: 0.1666 - val_acc: 0.9567\n",
      "Epoch 15/25\n",
      "39900/39900 [==============================] - 5s 116us/step - loss: 0.0831 - acc: 0.9757 - val_loss: 0.1533 - val_acc: 0.9629\n",
      "Epoch 16/25\n",
      "39900/39900 [==============================] - 5s 116us/step - loss: 0.0809 - acc: 0.9764 - val_loss: 0.1545 - val_acc: 0.9624\n",
      "Epoch 17/25\n",
      "39900/39900 [==============================] - 5s 113us/step - loss: 0.0777 - acc: 0.9778 - val_loss: 0.1545 - val_acc: 0.9581\n",
      "Epoch 18/25\n",
      "39900/39900 [==============================] - 5s 114us/step - loss: 0.0752 - acc: 0.9785 - val_loss: 0.1660 - val_acc: 0.9586\n",
      "Epoch 19/25\n",
      "39900/39900 [==============================] - 5s 114us/step - loss: 0.0728 - acc: 0.9782 - val_loss: 0.1674 - val_acc: 0.9576\n",
      "Epoch 20/25\n",
      "39900/39900 [==============================] - 5s 115us/step - loss: 0.0694 - acc: 0.9796 - val_loss: 0.1872 - val_acc: 0.9576\n",
      "Epoch 21/25\n",
      "39900/39900 [==============================] - 4s 110us/step - loss: 0.0686 - acc: 0.9798 - val_loss: 0.1801 - val_acc: 0.9557\n",
      "Epoch 22/25\n",
      "39900/39900 [==============================] - 4s 112us/step - loss: 0.0656 - acc: 0.9807 - val_loss: 0.1801 - val_acc: 0.9590\n",
      "Epoch 23/25\n",
      "39900/39900 [==============================] - 4s 111us/step - loss: 0.0633 - acc: 0.9807 - val_loss: 0.1823 - val_acc: 0.9619\n",
      "Epoch 24/25\n",
      "39900/39900 [==============================] - 5s 132us/step - loss: 0.0619 - acc: 0.9815 - val_loss: 0.1910 - val_acc: 0.9548\n",
      "Epoch 25/25\n",
      "39900/39900 [==============================] - 5s 134us/step - loss: 0.0597 - acc: 0.9821 - val_loss: 0.1786 - val_acc: 0.9557\n"
     ]
    }
   ],
   "source": [
    "cache=model.fit(x_train,y_train,epochs=25,batch_size=64, validation_split=0.05)"
   ]
  },
  {
   "cell_type": "markdown",
   "metadata": {},
   "source": [
    "# Analysis and Learning Curve"
   ]
  },
  {
   "cell_type": "code",
   "execution_count": 47,
   "metadata": {
    "_cell_guid": "178b47fb-bdfb-468b-b93e-8165c531333c",
    "_uuid": "4335bcd0e579722f75067fc4ca21eb48dfb6248b"
   },
   "outputs": [
    {
     "data": {
      "text/html": [
       "<div>\n",
       "<style>\n",
       "    .dataframe thead tr:only-child th {\n",
       "        text-align: right;\n",
       "    }\n",
       "\n",
       "    .dataframe thead th {\n",
       "        text-align: left;\n",
       "    }\n",
       "\n",
       "    .dataframe tbody tr th {\n",
       "        vertical-align: top;\n",
       "    }\n",
       "</style>\n",
       "<table border=\"1\" class=\"dataframe\">\n",
       "  <thead>\n",
       "    <tr style=\"text-align: right;\">\n",
       "      <th></th>\n",
       "      <th>acc</th>\n",
       "      <th>loss</th>\n",
       "      <th>val_acc</th>\n",
       "      <th>val_loss</th>\n",
       "    </tr>\n",
       "  </thead>\n",
       "  <tbody>\n",
       "    <tr>\n",
       "      <th>0</th>\n",
       "      <td>0.850627</td>\n",
       "      <td>0.533267</td>\n",
       "      <td>0.913810</td>\n",
       "      <td>0.303958</td>\n",
       "    </tr>\n",
       "    <tr>\n",
       "      <th>1</th>\n",
       "      <td>0.929148</td>\n",
       "      <td>0.247781</td>\n",
       "      <td>0.923810</td>\n",
       "      <td>0.263934</td>\n",
       "    </tr>\n",
       "    <tr>\n",
       "      <th>2</th>\n",
       "      <td>0.940175</td>\n",
       "      <td>0.206901</td>\n",
       "      <td>0.935714</td>\n",
       "      <td>0.233660</td>\n",
       "    </tr>\n",
       "    <tr>\n",
       "      <th>3</th>\n",
       "      <td>0.948170</td>\n",
       "      <td>0.179084</td>\n",
       "      <td>0.938571</td>\n",
       "      <td>0.216780</td>\n",
       "    </tr>\n",
       "    <tr>\n",
       "      <th>4</th>\n",
       "      <td>0.953910</td>\n",
       "      <td>0.157829</td>\n",
       "      <td>0.946667</td>\n",
       "      <td>0.192707</td>\n",
       "    </tr>\n",
       "    <tr>\n",
       "      <th>5</th>\n",
       "      <td>0.957870</td>\n",
       "      <td>0.141261</td>\n",
       "      <td>0.945714</td>\n",
       "      <td>0.199563</td>\n",
       "    </tr>\n",
       "    <tr>\n",
       "      <th>6</th>\n",
       "      <td>0.961529</td>\n",
       "      <td>0.129408</td>\n",
       "      <td>0.949524</td>\n",
       "      <td>0.183381</td>\n",
       "    </tr>\n",
       "    <tr>\n",
       "      <th>7</th>\n",
       "      <td>0.963684</td>\n",
       "      <td>0.121032</td>\n",
       "      <td>0.953810</td>\n",
       "      <td>0.163840</td>\n",
       "    </tr>\n",
       "    <tr>\n",
       "      <th>8</th>\n",
       "      <td>0.967669</td>\n",
       "      <td>0.111342</td>\n",
       "      <td>0.959048</td>\n",
       "      <td>0.160700</td>\n",
       "    </tr>\n",
       "    <tr>\n",
       "      <th>9</th>\n",
       "      <td>0.969023</td>\n",
       "      <td>0.105079</td>\n",
       "      <td>0.957143</td>\n",
       "      <td>0.165255</td>\n",
       "    </tr>\n",
       "    <tr>\n",
       "      <th>10</th>\n",
       "      <td>0.970301</td>\n",
       "      <td>0.099436</td>\n",
       "      <td>0.958095</td>\n",
       "      <td>0.160831</td>\n",
       "    </tr>\n",
       "    <tr>\n",
       "      <th>11</th>\n",
       "      <td>0.971779</td>\n",
       "      <td>0.094574</td>\n",
       "      <td>0.953333</td>\n",
       "      <td>0.167267</td>\n",
       "    </tr>\n",
       "    <tr>\n",
       "      <th>12</th>\n",
       "      <td>0.974060</td>\n",
       "      <td>0.091844</td>\n",
       "      <td>0.958095</td>\n",
       "      <td>0.155527</td>\n",
       "    </tr>\n",
       "    <tr>\n",
       "      <th>13</th>\n",
       "      <td>0.974386</td>\n",
       "      <td>0.086249</td>\n",
       "      <td>0.956667</td>\n",
       "      <td>0.166591</td>\n",
       "    </tr>\n",
       "    <tr>\n",
       "      <th>14</th>\n",
       "      <td>0.975689</td>\n",
       "      <td>0.083052</td>\n",
       "      <td>0.962857</td>\n",
       "      <td>0.153296</td>\n",
       "    </tr>\n",
       "    <tr>\n",
       "      <th>15</th>\n",
       "      <td>0.976366</td>\n",
       "      <td>0.080896</td>\n",
       "      <td>0.962381</td>\n",
       "      <td>0.154477</td>\n",
       "    </tr>\n",
       "    <tr>\n",
       "      <th>16</th>\n",
       "      <td>0.977845</td>\n",
       "      <td>0.077703</td>\n",
       "      <td>0.958095</td>\n",
       "      <td>0.154547</td>\n",
       "    </tr>\n",
       "    <tr>\n",
       "      <th>17</th>\n",
       "      <td>0.978471</td>\n",
       "      <td>0.075247</td>\n",
       "      <td>0.958571</td>\n",
       "      <td>0.166023</td>\n",
       "    </tr>\n",
       "    <tr>\n",
       "      <th>18</th>\n",
       "      <td>0.978246</td>\n",
       "      <td>0.072774</td>\n",
       "      <td>0.957619</td>\n",
       "      <td>0.167356</td>\n",
       "    </tr>\n",
       "    <tr>\n",
       "      <th>19</th>\n",
       "      <td>0.979574</td>\n",
       "      <td>0.069441</td>\n",
       "      <td>0.957619</td>\n",
       "      <td>0.187248</td>\n",
       "    </tr>\n",
       "    <tr>\n",
       "      <th>20</th>\n",
       "      <td>0.979825</td>\n",
       "      <td>0.068555</td>\n",
       "      <td>0.955714</td>\n",
       "      <td>0.180055</td>\n",
       "    </tr>\n",
       "    <tr>\n",
       "      <th>21</th>\n",
       "      <td>0.980702</td>\n",
       "      <td>0.065609</td>\n",
       "      <td>0.959048</td>\n",
       "      <td>0.180094</td>\n",
       "    </tr>\n",
       "    <tr>\n",
       "      <th>22</th>\n",
       "      <td>0.980677</td>\n",
       "      <td>0.063329</td>\n",
       "      <td>0.961905</td>\n",
       "      <td>0.182340</td>\n",
       "    </tr>\n",
       "    <tr>\n",
       "      <th>23</th>\n",
       "      <td>0.981504</td>\n",
       "      <td>0.061942</td>\n",
       "      <td>0.954762</td>\n",
       "      <td>0.191027</td>\n",
       "    </tr>\n",
       "    <tr>\n",
       "      <th>24</th>\n",
       "      <td>0.982130</td>\n",
       "      <td>0.059748</td>\n",
       "      <td>0.955714</td>\n",
       "      <td>0.178576</td>\n",
       "    </tr>\n",
       "  </tbody>\n",
       "</table>\n",
       "</div>"
      ],
      "text/plain": [
       "         acc      loss   val_acc  val_loss\n",
       "0   0.850627  0.533267  0.913810  0.303958\n",
       "1   0.929148  0.247781  0.923810  0.263934\n",
       "2   0.940175  0.206901  0.935714  0.233660\n",
       "3   0.948170  0.179084  0.938571  0.216780\n",
       "4   0.953910  0.157829  0.946667  0.192707\n",
       "5   0.957870  0.141261  0.945714  0.199563\n",
       "6   0.961529  0.129408  0.949524  0.183381\n",
       "7   0.963684  0.121032  0.953810  0.163840\n",
       "8   0.967669  0.111342  0.959048  0.160700\n",
       "9   0.969023  0.105079  0.957143  0.165255\n",
       "10  0.970301  0.099436  0.958095  0.160831\n",
       "11  0.971779  0.094574  0.953333  0.167267\n",
       "12  0.974060  0.091844  0.958095  0.155527\n",
       "13  0.974386  0.086249  0.956667  0.166591\n",
       "14  0.975689  0.083052  0.962857  0.153296\n",
       "15  0.976366  0.080896  0.962381  0.154477\n",
       "16  0.977845  0.077703  0.958095  0.154547\n",
       "17  0.978471  0.075247  0.958571  0.166023\n",
       "18  0.978246  0.072774  0.957619  0.167356\n",
       "19  0.979574  0.069441  0.957619  0.187248\n",
       "20  0.979825  0.068555  0.955714  0.180055\n",
       "21  0.980702  0.065609  0.959048  0.180094\n",
       "22  0.980677  0.063329  0.961905  0.182340\n",
       "23  0.981504  0.061942  0.954762  0.191027\n",
       "24  0.982130  0.059748  0.955714  0.178576"
      ]
     },
     "execution_count": 47,
     "metadata": {},
     "output_type": "execute_result"
    }
   ],
   "source": [
    "cache_df=pd.DataFrame(cache.history)\n",
    "cache_df"
   ]
  },
  {
   "cell_type": "markdown",
   "metadata": {
    "_cell_guid": "99303fcd-9a2b-46a8-b352-78ca8b6a8fd1",
    "_uuid": "641fb38694db84b10ed91e9ee1122c511fddf7f6",
    "collapsed": true
   },
   "source": [
    "**Plotting Loss and Validation Loss**"
   ]
  },
  {
   "cell_type": "code",
   "execution_count": 48,
   "metadata": {},
   "outputs": [
    {
     "data": {
      "image/png": "[encoded data removed]",
      "text/plain": [
       "<matplotlib.figure.Figure at 0x6923710>"
      ]
     },
     "metadata": {},
     "output_type": "display_data"
    }
   ],
   "source": [
    "epochs=range(1,cache_df.shape[0]+1)\n",
    "\n",
    "plt.plot(epochs,cache_df['loss'],'r+',label='loss')\n",
    "plt.plot(epochs,cache_df['val_loss'],'b+',label='val_loss')\n",
    "plt.xlabel('Epochs')\n",
    "plt.ylabel('Loss')\n",
    "plt.legend()\n",
    "plt.show()"
   ]
  },
  {
   "cell_type": "code",
   "execution_count": 49,
   "metadata": {},
   "outputs": [
    {
     "data": {
      "image/png": "[encoded data removed]",
      "text/plain": [
       "<matplotlib.figure.Figure at 0xfb1f710>"
      ]
     },
     "metadata": {},
     "output_type": "display_data"
    }
   ],
   "source": [
    "plt.plot(epochs,cache_df['acc'],'r+',label='acc')\n",
    "plt.plot(epochs,cache_df['val_acc'],'b+',label='val_acc')\n",
    "plt.xlabel('Epochs')\n",
    "plt.ylabel('Accuracy')\n",
    "plt.legend()\n",
    "plt.show()"
   ]
  },
  {
   "cell_type": "markdown",
   "metadata": {},
   "source": [
    "#        We can see that it is case of     OVERFITTING"
   ]
  },
  {
   "cell_type": "markdown",
   "metadata": {},
   "source": [
    "**We need to reduce the variance . Things that can be done** <br>\n",
    "  1. Regularization <br>\n",
    "  2. Dropout <br>\n",
    "  3. Reduce epoch<br>\n",
    "  \n",
    "**Let's Build a new mode with Dropout and reducing epoch to 15**\n",
    "  "
   ]
  },
  {
   "cell_type": "code",
   "execution_count": 50,
   "metadata": {
    "collapsed": true
   },
   "outputs": [],
   "source": [
    "model=Sequential()\n",
    "model.add(Dense(32,activation=\"relu\",input_dim=784))\n",
    "model.add(Dropout(0.15))\n",
    "model.add(Dense(16,activation=\"relu\"))\n",
    "model.add(Dropout(0.15))\n",
    "model.add(Dense(10,activation='softmax'))"
   ]
  },
  {
   "cell_type": "code",
   "execution_count": 51,
   "metadata": {},
   "outputs": [
    {
     "name": "stdout",
     "output_type": "stream",
     "text": [
      "_________________________________________________________________\n",
      "Layer (type)                 Output Shape              Param #   \n",
      "=================================================================\n",
      "dense_7 (Dense)              (None, 32)                25120     \n",
      "_________________________________________________________________\n",
      "dropout_1 (Dropout)          (None, 32)                0         \n",
      "_________________________________________________________________\n",
      "dense_8 (Dense)              (None, 16)                528       \n",
      "_________________________________________________________________\n",
      "dropout_2 (Dropout)          (None, 16)                0         \n",
      "_________________________________________________________________\n",
      "dense_9 (Dense)              (None, 10)                170       \n",
      "=================================================================\n",
      "Total params: 25,818\n",
      "Trainable params: 25,818\n",
      "Non-trainable params: 0\n",
      "_________________________________________________________________\n"
     ]
    }
   ],
   "source": [
    "model.summary()"
   ]
  },
  {
   "cell_type": "code",
   "execution_count": 52,
   "metadata": {
    "collapsed": true
   },
   "outputs": [],
   "source": [
    "model.compile(optimizer=RMSprop(lr=0.0001),\n",
    "             loss='categorical_crossentropy',\n",
    "             metrics=['accuracy'])"
   ]
  },
  {
   "cell_type": "code",
   "execution_count": 54,
   "metadata": {},
   "outputs": [
    {
     "name": "stdout",
     "output_type": "stream",
     "text": [
      "Train on 39900 samples, validate on 2100 samples\n",
      "Epoch 1/15\n",
      "39900/39900 [==============================] - 5s 127us/step - loss: 1.6522 - acc: 0.4732 - val_loss: 1.2103 - val_acc: 0.6714\n",
      "Epoch 2/15\n",
      "39900/39900 [==============================] - 5s 130us/step - loss: 1.1863 - acc: 0.6123 - val_loss: 0.8568 - val_acc: 0.7671\n",
      "Epoch 3/15\n",
      "39900/39900 [==============================] - 5s 135us/step - loss: 0.9474 - acc: 0.6965 - val_loss: 0.6571 - val_acc: 0.8400\n",
      "Epoch 4/15\n",
      "39900/39900 [==============================] - 5s 137us/step - loss: 0.8054 - acc: 0.7495 - val_loss: 0.5480 - val_acc: 0.8690\n",
      "Epoch 5/15\n",
      "39900/39900 [==============================] - 5s 125us/step - loss: 0.7118 - acc: 0.7797 - val_loss: 0.4794 - val_acc: 0.8867\n",
      "Epoch 6/15\n",
      "39900/39900 [==============================] - 5s 128us/step - loss: 0.6530 - acc: 0.7971 - val_loss: 0.4351 - val_acc: 0.8957\n",
      "Epoch 7/15\n",
      "39900/39900 [==============================] - 5s 130us/step - loss: 0.6015 - acc: 0.8143 - val_loss: 0.4012 - val_acc: 0.9043\n",
      "Epoch 8/15\n",
      "39900/39900 [==============================] - 5s 128us/step - loss: 0.5635 - acc: 0.8288 - val_loss: 0.3762 - val_acc: 0.9067\n",
      "Epoch 9/15\n",
      "39900/39900 [==============================] - 5s 136us/step - loss: 0.5357 - acc: 0.8343 - val_loss: 0.3569 - val_acc: 0.9110\n",
      "Epoch 10/15\n",
      "39900/39900 [==============================] - 5s 127us/step - loss: 0.5036 - acc: 0.8464 - val_loss: 0.3395 - val_acc: 0.9152\n",
      "Epoch 11/15\n",
      "39900/39900 [==============================] - 5s 132us/step - loss: 0.4803 - acc: 0.8523 - val_loss: 0.3244 - val_acc: 0.9171\n",
      "Epoch 12/15\n",
      "39900/39900 [==============================] - 5s 133us/step - loss: 0.4655 - acc: 0.8585 - val_loss: 0.3168 - val_acc: 0.9167\n",
      "Epoch 13/15\n",
      "39900/39900 [==============================] - 6s 141us/step - loss: 0.4468 - acc: 0.8633 - val_loss: 0.3036 - val_acc: 0.9214\n",
      "Epoch 14/15\n",
      "39900/39900 [==============================] - 5s 138us/step - loss: 0.4356 - acc: 0.8687 - val_loss: 0.2976 - val_acc: 0.9219\n",
      "Epoch 15/15\n",
      "39900/39900 [==============================] - 5s 134us/step - loss: 0.4214 - acc: 0.8735 - val_loss: 0.2898 - val_acc: 0.9238\n"
     ]
    }
   ],
   "source": [
    "cache=model.fit(x_train,y_train,epochs=15,batch_size=64, validation_split=0.05)"
   ]
  },
  {
   "cell_type": "code",
   "execution_count": 55,
   "metadata": {},
   "outputs": [
    {
     "data": {
      "text/html": [
       "<div>\n",
       "<style>\n",
       "    .dataframe thead tr:only-child th {\n",
       "        text-align: right;\n",
       "    }\n",
       "\n",
       "    .dataframe thead th {\n",
       "        text-align: left;\n",
       "    }\n",
       "\n",
       "    .dataframe tbody tr th {\n",
       "        vertical-align: top;\n",
       "    }\n",
       "</style>\n",
       "<table border=\"1\" class=\"dataframe\">\n",
       "  <thead>\n",
       "    <tr style=\"text-align: right;\">\n",
       "      <th></th>\n",
       "      <th>acc</th>\n",
       "      <th>loss</th>\n",
       "      <th>val_acc</th>\n",
       "      <th>val_loss</th>\n",
       "    </tr>\n",
       "  </thead>\n",
       "  <tbody>\n",
       "    <tr>\n",
       "      <th>0</th>\n",
       "      <td>0.473233</td>\n",
       "      <td>1.652210</td>\n",
       "      <td>0.671429</td>\n",
       "      <td>1.210299</td>\n",
       "    </tr>\n",
       "    <tr>\n",
       "      <th>1</th>\n",
       "      <td>0.612256</td>\n",
       "      <td>1.186300</td>\n",
       "      <td>0.767143</td>\n",
       "      <td>0.856840</td>\n",
       "    </tr>\n",
       "    <tr>\n",
       "      <th>2</th>\n",
       "      <td>0.696491</td>\n",
       "      <td>0.947356</td>\n",
       "      <td>0.840000</td>\n",
       "      <td>0.657068</td>\n",
       "    </tr>\n",
       "    <tr>\n",
       "      <th>3</th>\n",
       "      <td>0.749499</td>\n",
       "      <td>0.805380</td>\n",
       "      <td>0.869048</td>\n",
       "      <td>0.548009</td>\n",
       "    </tr>\n",
       "    <tr>\n",
       "      <th>4</th>\n",
       "      <td>0.779749</td>\n",
       "      <td>0.711808</td>\n",
       "      <td>0.886667</td>\n",
       "      <td>0.479437</td>\n",
       "    </tr>\n",
       "    <tr>\n",
       "      <th>5</th>\n",
       "      <td>0.797118</td>\n",
       "      <td>0.652994</td>\n",
       "      <td>0.895714</td>\n",
       "      <td>0.435117</td>\n",
       "    </tr>\n",
       "    <tr>\n",
       "      <th>6</th>\n",
       "      <td>0.814286</td>\n",
       "      <td>0.601517</td>\n",
       "      <td>0.904286</td>\n",
       "      <td>0.401244</td>\n",
       "    </tr>\n",
       "    <tr>\n",
       "      <th>7</th>\n",
       "      <td>0.828797</td>\n",
       "      <td>0.563549</td>\n",
       "      <td>0.906667</td>\n",
       "      <td>0.376162</td>\n",
       "    </tr>\n",
       "    <tr>\n",
       "      <th>8</th>\n",
       "      <td>0.834261</td>\n",
       "      <td>0.535728</td>\n",
       "      <td>0.910952</td>\n",
       "      <td>0.356854</td>\n",
       "    </tr>\n",
       "    <tr>\n",
       "      <th>9</th>\n",
       "      <td>0.846441</td>\n",
       "      <td>0.503615</td>\n",
       "      <td>0.915238</td>\n",
       "      <td>0.339516</td>\n",
       "    </tr>\n",
       "    <tr>\n",
       "      <th>10</th>\n",
       "      <td>0.852256</td>\n",
       "      <td>0.480308</td>\n",
       "      <td>0.917143</td>\n",
       "      <td>0.324351</td>\n",
       "    </tr>\n",
       "    <tr>\n",
       "      <th>11</th>\n",
       "      <td>0.858471</td>\n",
       "      <td>0.465549</td>\n",
       "      <td>0.916667</td>\n",
       "      <td>0.316808</td>\n",
       "    </tr>\n",
       "    <tr>\n",
       "      <th>12</th>\n",
       "      <td>0.863258</td>\n",
       "      <td>0.446793</td>\n",
       "      <td>0.921429</td>\n",
       "      <td>0.303614</td>\n",
       "    </tr>\n",
       "    <tr>\n",
       "      <th>13</th>\n",
       "      <td>0.868722</td>\n",
       "      <td>0.435614</td>\n",
       "      <td>0.921905</td>\n",
       "      <td>0.297585</td>\n",
       "    </tr>\n",
       "    <tr>\n",
       "      <th>14</th>\n",
       "      <td>0.873509</td>\n",
       "      <td>0.421445</td>\n",
       "      <td>0.923810</td>\n",
       "      <td>0.289802</td>\n",
       "    </tr>\n",
       "  </tbody>\n",
       "</table>\n",
       "</div>"
      ],
      "text/plain": [
       "         acc      loss   val_acc  val_loss\n",
       "0   0.473233  1.652210  0.671429  1.210299\n",
       "1   0.612256  1.186300  0.767143  0.856840\n",
       "2   0.696491  0.947356  0.840000  0.657068\n",
       "3   0.749499  0.805380  0.869048  0.548009\n",
       "4   0.779749  0.711808  0.886667  0.479437\n",
       "5   0.797118  0.652994  0.895714  0.435117\n",
       "6   0.814286  0.601517  0.904286  0.401244\n",
       "7   0.828797  0.563549  0.906667  0.376162\n",
       "8   0.834261  0.535728  0.910952  0.356854\n",
       "9   0.846441  0.503615  0.915238  0.339516\n",
       "10  0.852256  0.480308  0.917143  0.324351\n",
       "11  0.858471  0.465549  0.916667  0.316808\n",
       "12  0.863258  0.446793  0.921429  0.303614\n",
       "13  0.868722  0.435614  0.921905  0.297585\n",
       "14  0.873509  0.421445  0.923810  0.289802"
      ]
     },
     "execution_count": 55,
     "metadata": {},
     "output_type": "execute_result"
    }
   ],
   "source": [
    "cache_df=pd.DataFrame(cache.history)\n",
    "cache_df"
   ]
  },
  {
   "cell_type": "code",
   "execution_count": 56,
   "metadata": {},
   "outputs": [
    {
     "data": {
      "image/png": "[encoded data removed]",
      "text/plain": [
       "<matplotlib.figure.Figure at 0x106abfd0>"
      ]
     },
     "metadata": {},
     "output_type": "display_data"
    }
   ],
   "source": [
    "epochs=range(1,cache_df.shape[0]+1)\n",
    "\n",
    "plt.plot(epochs,cache_df['loss'],'r+',label='loss')\n",
    "plt.plot(epochs,cache_df['val_loss'],'b+',label='val_loss')\n",
    "plt.xlabel('Epochs')\n",
    "plt.ylabel('Loss')\n",
    "plt.legend()\n",
    "plt.show()"
   ]
  },
  {
   "cell_type": "code",
   "execution_count": 57,
   "metadata": {},
   "outputs": [
    {
     "data": {
      "image/png": "[encoded data removed]",
      "text/plain": [
       "<matplotlib.figure.Figure at 0x69170b8>"
      ]
     },
     "metadata": {},
     "output_type": "display_data"
    }
   ],
   "source": [
    "plt.plot(epochs,cache_df['acc'],'r+',label='acc')\n",
    "plt.plot(epochs,cache_df['val_acc'],'b+',label='val_acc')\n",
    "plt.xlabel('Epochs')\n",
    "plt.ylabel('Accuracy')\n",
    "plt.legend()\n",
    "plt.show()"
   ]
  },
  {
   "cell_type": "code",
   "execution_count": null,
   "metadata": {
    "collapsed": true
   },
   "outputs": [],
   "source": []
  },
  {
   "cell_type": "code",
   "execution_count": 58,
   "metadata": {
    "collapsed": true
   },
   "outputs": [],
   "source": [
    "preds=model.predict_classes(x_test,verbose=0)"
   ]
  },
  {
   "cell_type": "code",
   "execution_count": 59,
   "metadata": {},
   "outputs": [
    {
     "data": {
      "text/plain": [
       "array([2, 0, 9, 9, 3], dtype=int64)"
      ]
     },
     "execution_count": 59,
     "metadata": {},
     "output_type": "execute_result"
    }
   ],
   "source": [
    "preds[0:5]"
   ]
  },
  {
   "cell_type": "code",
   "execution_count": 60,
   "metadata": {
    "_cell_guid": "c11703bf-bf9d-45a7-a09d-c964a5d782b8",
    "_uuid": "ebd323c9a5b440543929b73e74e792028695dda0",
    "collapsed": true
   },
   "outputs": [],
   "source": [
    "subs=pd.DataFrame({\"ImageId\":list(range(1,len(preds)+1)),\"Label\":preds})\n",
    "subs.to_csv(\"sub2.csv\",index=False,header=True)"
   ]
  },
  {
   "cell_type": "markdown",
   "metadata": {},
   "source": [
    "# Leaderboard score - 0.92714"
   ]
  }
 ],
 "metadata": {
  "kernelspec": {
   "display_name": "Python 3",
   "language": "python",
   "name": "python3"
  },
  "language_info": {
   "codemirror_mode": {
    "name": "ipython",
    "version": 3
   },
   "file_extension": ".py",
   "mimetype": "text/x-python",
   "name": "python",
   "nbconvert_exporter": "python",
   "pygments_lexer": "ipython3",
   "version": "3.6.1"
  }
 },
 "nbformat": 4,
 "nbformat_minor": 1
}
